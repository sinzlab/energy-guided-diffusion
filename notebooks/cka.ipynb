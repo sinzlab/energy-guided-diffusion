{
 "cells": [
  {
   "cell_type": "code",
   "execution_count": 1,
   "metadata": {
    "collapsed": true
   },
   "outputs": [],
   "source": [
    "import torch\n",
    "import numpy as np\n",
    "from egg.models import models\n",
    "from tqdm import tqdm"
   ]
  },
  {
   "cell_type": "code",
   "execution_count": 2,
   "outputs": [],
   "source": [
    "def center_kernel(K: torch.Tensor):\n",
    "    \"\"\"\n",
    "    Center kernel matrix K by:\n",
    "    1) construcing the centering matrix H\n",
    "        (see: https://en.wikipedia.org/wiki/Centering_matrix)\n",
    "    2) left multiply K by H to center the columns of K\n",
    "    3) right multiply K by H to center the rows of K\n",
    "    \"\"\"\n",
    "    # construct centering matrix\n",
    "    n = K.shape[0]\n",
    "    unit = torch.ones([n, n], device=K.device, dtype=K.dtype)\n",
    "    I = torch.eye(n, device=K.device, dtype=K.dtype)\n",
    "    H = I - unit / n\n",
    "    # center rows and columns\n",
    "    return torch.mm(torch.mm(H, K), H)\n",
    "\n",
    "\n",
    "def scaled_HSIC(K: torch.Tensor, L: torch.Tensor):\n",
    "    \"\"\"\n",
    "    Given two kernel matrices, computes the scaled empirical estimator of the\n",
    "    Hilbert-Schmidt Independence Criterion by:\n",
    "    1) centering the kernel matrices\n",
    "    2) computing the trace of the product of the centered kernel matrices\n",
    "    \"\"\"\n",
    "    # center kernel matrices\n",
    "    K_cent = center_kernel(K)\n",
    "    L_cent = center_kernel(L)\n",
    "    # compute and return trace\n",
    "    return torch.sum(K_cent * L_cent)\n",
    "\n",
    "\n",
    "def linear_CKA(X: torch.Tensor, Y: torch.Tensor) -> torch.Tensor:\n",
    "    \"\"\"\n",
    "    Given two representation matrices, computes the Centralized Kernel Alignment\n",
    "    based on the linear kernel k(x_i, x_j) = <x_i, x_j>\n",
    "    \"\"\"\n",
    "    # compute kernel matrices for linear kernel\n",
    "    K = torch.mm(X, X.T)\n",
    "    L = torch.mm(Y, Y.T)\n",
    "    # compute CKA\n",
    "    normalization = torch.sqrt(scaled_HSIC(K, K)) * torch.sqrt(scaled_HSIC(L, L))\n",
    "    return scaled_HSIC(K, L) / normalization"
   ],
   "metadata": {
    "collapsed": false,
    "pycharm": {
     "name": "#%%\n"
    }
   }
  },
  {
   "cell_type": "code",
   "execution_count": 3,
   "outputs": [],
   "source": [
    "images = torch.Tensor(np.load(\"../data/75_monkey_test_imgs.npy\"))"
   ],
   "metadata": {
    "collapsed": false,
    "pycharm": {
     "name": "#%%\n"
    }
   }
  },
  {
   "cell_type": "code",
   "execution_count": 31,
   "outputs": [
    {
     "data": {
      "text/plain": "(tensor(89.7271), tensor(22.6774))"
     },
     "execution_count": 31,
     "metadata": {},
     "output_type": "execute_result"
    }
   ],
   "source": [
    "images.reshape(75, -1).norm(dim=1).mean(), images.reshape(75, -1).norm(dim=1).std()"
   ],
   "metadata": {
    "collapsed": false,
    "pycharm": {
     "name": "#%%\n"
    }
   }
  },
  {
   "cell_type": "code",
   "execution_count": 4,
   "outputs": [
    {
     "name": "stderr",
     "output_type": "stream",
     "text": [
      "[2023-08-15 14:45:37,698][INFO]: Connecting @localhost:3306\n"
     ]
    },
    {
     "name": "stdout",
     "output_type": "stream",
     "text": [
      "datajoint connection not established, skipping model imports from nnfabrik tables\n"
     ]
    },
    {
     "name": "stderr",
     "output_type": "stream",
     "text": [
      "[2023-08-15 14:45:39,104][INFO]: Connecting @localhost:3306\n",
      "/Users/paul/PycharmProjects/guided-diffusion/venv/lib/python3.9/site-packages/torchvision/models/_utils.py:208: UserWarning: The parameter 'pretrained' is deprecated since 0.13 and may be removed in the future, please use 'weights' instead.\n",
      "  warnings.warn(\n",
      "/Users/paul/PycharmProjects/guided-diffusion/venv/lib/python3.9/site-packages/torchvision/models/_utils.py:223: UserWarning: Arguments other than a weight enum or `None` for 'weights' are deprecated since 0.13 and may be removed in the future. The current behavior is equivalent to passing `weights=None`.\n",
      "  warnings.warn(msg)\n"
     ]
    },
    {
     "name": "stdout",
     "output_type": "stream",
     "text": [
      "datajoint connection not established, skipping model imports from nnfabrik tables\n"
     ]
    }
   ],
   "source": [
    "td_models = models['task_driven']"
   ],
   "metadata": {
    "collapsed": false,
    "pycharm": {
     "name": "#%%\n"
    }
   }
  },
  {
   "cell_type": "code",
   "execution_count": 5,
   "outputs": [
    {
     "name": "stderr",
     "output_type": "stream",
     "text": [
      "100%|██████████| 15/15 [00:12<00:00,  1.25it/s]\n"
     ]
    }
   ],
   "source": [
    "\n",
    "responses = []\n",
    "for i in tqdm(np.arange(0, 75, 5)):\n",
    "    responses.append(td_models['train'](images[i:i+5]))"
   ],
   "metadata": {
    "collapsed": false,
    "pycharm": {
     "name": "#%%\n"
    }
   }
  },
  {
   "cell_type": "code",
   "execution_count": 6,
   "outputs": [
    {
     "name": "stderr",
     "output_type": "stream",
     "text": [
      "100%|██████████| 15/15 [00:10<00:00,  1.46it/s]\n"
     ]
    }
   ],
   "source": [
    "val_responses = []\n",
    "for i in tqdm(np.arange(0, 75, 5)):\n",
    "    val_responses.append(td_models['val'](images[i:i+5]))"
   ],
   "metadata": {
    "collapsed": false,
    "pycharm": {
     "name": "#%%\n"
    }
   }
  },
  {
   "cell_type": "code",
   "execution_count": 7,
   "outputs": [
    {
     "name": "stderr",
     "output_type": "stream",
     "text": [
      "100%|██████████| 75/75 [01:06<00:00,  1.12it/s]\n"
     ]
    }
   ],
   "source": [
    "cross_val_responses = []\n",
    "with torch.no_grad():\n",
    "    for i in tqdm(np.arange(0, 75, 1)):\n",
    "        cross_val_responses.append(td_models['cross-val'](images[i:i+1].unsqueeze(1), data_key='all_sessions'))"
   ],
   "metadata": {
    "collapsed": false,
    "pycharm": {
     "name": "#%%\n"
    }
   }
  },
  {
   "cell_type": "code",
   "execution_count": 12,
   "outputs": [
    {
     "name": "stderr",
     "output_type": "stream",
     "text": [
      "100%|██████████| 75/75 [00:59<00:00,  1.25it/s]\n"
     ]
    }
   ],
   "source": [
    "cross_val_responses_2 = []\n",
    "with torch.no_grad():\n",
    "    for i in tqdm(np.arange(0, 75, 1)):\n",
    "        cross_val_responses_2.append(models['v4_multihead_attention']['val'](images[i:i+1].unsqueeze(1), data_key='all_sessions'))"
   ],
   "metadata": {
    "collapsed": false,
    "pycharm": {
     "name": "#%%\n"
    }
   }
  },
  {
   "cell_type": "code",
   "execution_count": 8,
   "outputs": [
    {
     "data": {
      "text/plain": "tensor(0.9994, grad_fn=<DivBackward0>)"
     },
     "execution_count": 8,
     "metadata": {},
     "output_type": "execute_result"
    }
   ],
   "source": [
    "linear_CKA(torch.cat(responses), torch.cat(val_responses))"
   ],
   "metadata": {
    "collapsed": false,
    "pycharm": {
     "name": "#%%\n"
    }
   }
  },
  {
   "cell_type": "code",
   "execution_count": 9,
   "outputs": [
    {
     "data": {
      "text/plain": "tensor(0.9133, grad_fn=<DivBackward0>)"
     },
     "execution_count": 9,
     "metadata": {},
     "output_type": "execute_result"
    }
   ],
   "source": [
    "linear_CKA(torch.cat(responses), torch.cat(cross_val_responses))"
   ],
   "metadata": {
    "collapsed": false,
    "pycharm": {
     "name": "#%%\n"
    }
   }
  },
  {
   "cell_type": "code",
   "execution_count": 10,
   "outputs": [
    {
     "data": {
      "text/plain": "tensor(0.9116, grad_fn=<DivBackward0>)"
     },
     "execution_count": 10,
     "metadata": {},
     "output_type": "execute_result"
    }
   ],
   "source": [
    "linear_CKA(torch.cat(val_responses), torch.cat(cross_val_responses))"
   ],
   "metadata": {
    "collapsed": false,
    "pycharm": {
     "name": "#%%\n"
    }
   }
  },
  {
   "cell_type": "code",
   "execution_count": 14,
   "outputs": [
    {
     "data": {
      "text/plain": "tensor(0.9949)"
     },
     "execution_count": 14,
     "metadata": {},
     "output_type": "execute_result"
    }
   ],
   "source": [
    "linear_CKA(torch.cat(cross_val_responses_2), torch.cat(cross_val_responses))"
   ],
   "metadata": {
    "collapsed": false,
    "pycharm": {
     "name": "#%%\n"
    }
   }
  },
  {
   "cell_type": "code",
   "execution_count": 15,
   "outputs": [
    {
     "data": {
      "text/plain": "tensor(0.9145, grad_fn=<DivBackward0>)"
     },
     "execution_count": 15,
     "metadata": {},
     "output_type": "execute_result"
    }
   ],
   "source": [
    "linear_CKA(torch.cat(responses), torch.cat(cross_val_responses_2))"
   ],
   "metadata": {
    "collapsed": false,
    "pycharm": {
     "name": "#%%\n"
    }
   }
  },
  {
   "cell_type": "code",
   "execution_count": 16,
   "outputs": [
    {
     "data": {
      "text/plain": "tensor(0.9129, grad_fn=<DivBackward0>)"
     },
     "execution_count": 16,
     "metadata": {},
     "output_type": "execute_result"
    }
   ],
   "source": [
    "linear_CKA(torch.cat(val_responses), torch.cat(cross_val_responses_2))"
   ],
   "metadata": {
    "collapsed": false,
    "pycharm": {
     "name": "#%%\n"
    }
   }
  },
  {
   "cell_type": "code",
   "execution_count": 17,
   "outputs": [
    {
     "data": {
      "text/plain": "tensor(1.0000, grad_fn=<DivBackward0>)"
     },
     "execution_count": 17,
     "metadata": {},
     "output_type": "execute_result"
    }
   ],
   "source": [
    "linear_CKA(torch.cat(val_responses), torch.cat(val_responses))"
   ],
   "metadata": {
    "collapsed": false,
    "pycharm": {
     "name": "#%%\n"
    }
   }
  },
  {
   "cell_type": "code",
   "execution_count": null,
   "outputs": [],
   "source": [],
   "metadata": {
    "collapsed": false,
    "pycharm": {
     "name": "#%%\n"
    }
   }
  }
 ],
 "metadata": {
  "kernelspec": {
   "display_name": "Python 3",
   "language": "python",
   "name": "python3"
  },
  "language_info": {
   "codemirror_mode": {
    "name": "ipython",
    "version": 2
   },
   "file_extension": ".py",
   "mimetype": "text/x-python",
   "name": "python",
   "nbconvert_exporter": "python",
   "pygments_lexer": "ipython2",
   "version": "2.7.6"
  }
 },
 "nbformat": 4,
 "nbformat_minor": 0
}