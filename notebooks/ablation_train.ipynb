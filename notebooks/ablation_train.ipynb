{
 "cells": [
  {
   "cell_type": "code",
   "execution_count": 1,
   "metadata": {
    "collapsed": false,
    "jupyter": {
     "outputs_hidden": false
    },
    "pycharm": {
     "name": "#%%\n"
    }
   },
   "outputs": [],
   "source": [
    "%load_ext autoreload\n",
    "%autoreload 2\n",
    "\n",
    "from nnfabrik.builder import get_model, get_trainer, get_data\n",
    "import torch\n",
    "import matplotlib.pyplot as plt\n",
    "\n",
    "import numpy as np"
   ]
  },
  {
   "cell_type": "code",
   "execution_count": 2,
   "metadata": {},
   "outputs": [],
   "source": [
    "dataset_fn, dataset_config = ('nnvision.datasets.monkey_loaders.monkey_static_loader_combined',\n",
    " {'dataset': 'CSRF19_V4',\n",
    "  'neuronal_data_files': ['/data/monkey/toliaslab/CSRF19_V4/neuronal_data/CSRF19_V4_3653578665399.pickle',\n",
    "   '/data/monkey/toliaslab/CSRF19_V4/neuronal_data/CSRF19_V4_3646222772876.pickle',\n",
    "   '/data/monkey/toliaslab/CSRF19_V4/neuronal_data/CSRF19_V4_3748957662107.pickle',\n",
    "   '/data/monkey/toliaslab/CSRF19_V4/neuronal_data/CSRF19_V4_3649689088057.pickle',\n",
    "   '/data/monkey/toliaslab/CSRF19_V4/neuronal_data/CSRF19_V4_3712670505092.pickle',\n",
    "   '/data/monkey/toliaslab/CSRF19_V4/neuronal_data/CSRF19_V4_3748441462696.pickle',\n",
    "   '/data/monkey/toliaslab/CSRF19_V4/neuronal_data/CSRF19_V4_3747833727628.pickle',\n",
    "   '/data/monkey/toliaslab/CSRF19_V4/neuronal_data/CSRF19_V4_3691077636469.pickle',\n",
    "   '/data/monkey/toliaslab/CSRF19_V4/neuronal_data/CSRF19_V4_3652885366025.pickle',\n",
    "   '/data/monkey/toliaslab/CSRF19_V4/neuronal_data/CSRF19_V4_3746022907126.pickle',\n",
    "   '/data/monkey/toliaslab/CSRF19_V4/neuronal_data/CSRF19_V4_3647617982355.pickle',\n",
    "   '/data/monkey/toliaslab/CSRF19_V4/neuronal_data/CSRF19_V4_3708093025461.pickle',\n",
    "   '/data/monkey/toliaslab/CSRF19_V4/neuronal_data/CSRF19_V4_3722525435528.pickle',\n",
    "   '/data/monkey/toliaslab/CSRF19_V4/neuronal_data/CSRF19_V4_3746535952129.pickle',\n",
    "   '/data/monkey/toliaslab/CSRF19_V4/neuronal_data/CSRF19_V4_3650459721914.pickle',\n",
    "   '/data/monkey/toliaslab/CSRF19_V4/neuronal_data/CSRF19_V4_3719936747145.pickle',\n",
    "   '/data/monkey/toliaslab/CSRF19_V4/neuronal_data/CSRF19_V4_3693408913501.pickle',\n",
    "   '/data/monkey/toliaslab/CSRF19_V4/neuronal_data/CSRF19_V4_3744900291863.pickle',\n",
    "   '/data/monkey/toliaslab/CSRF19_V4/neuronal_data/CSRF19_V4_3713540419547.pickle',\n",
    "   '/data/monkey/toliaslab/CSRF19_V4/neuronal_data/CSRF19_V4_3654087847388.pickle',\n",
    "   '/data/monkey/toliaslab/CSRF19_V4/neuronal_data/CSRF19_V4_3733498089386.pickle',\n",
    "   '/data/monkey/toliaslab/CSRF19_V4/neuronal_data/CSRF19_V4_3751467146461.pickle',\n",
    "   '/data/monkey/toliaslab/CSRF19_V4/neuronal_data/CSRF19_V4_3692979440036.pickle',\n",
    "   '/data/monkey/toliaslab/CSRF19_V4/neuronal_data/CSRF19_V4_3690904445724.pickle',\n",
    "   '/data/monkey/toliaslab/CSRF19_V4/neuronal_data/CSRF19_V4_3648051669051.pickle',\n",
    "   '/data/monkey/toliaslab/CSRF19_V4/neuronal_data/CSRF19_V4_3746107242231.pickle',\n",
    "   '/data/monkey/toliaslab/CSRF19_V4/neuronal_data/CSRF19_V4_3646401671909.pickle',\n",
    "   '/data/monkey/toliaslab/CSRF19_V4/neuronal_data/CSRF19_V4_3732201680940.pickle',\n",
    "   '/data/monkey/toliaslab/CSRF19_V4/neuronal_data/CSRF19_V4_3749822834981.pickle',\n",
    "   '/data/monkey/toliaslab/CSRF19_V4/neuronal_data/CSRF19_V4_3748614014391.pickle',\n",
    "   '/data/monkey/toliaslab/CSRF19_V4/neuronal_data/CSRF19_V4_3691598527367.pickle',\n",
    "   '/data/monkey/toliaslab/CSRF19_V4/neuronal_data/CSRF19_V4_3692111199445.pickle',\n",
    "   '/data/monkey/toliaslab/CSRF19_V4/neuronal_data/CSRF19_V4_3744986196793.pickle',\n",
    "   '/data/monkey/toliaslab/CSRF19_V4/neuronal_data/CSRF19_V4_3651417046988.pickle',\n",
    "   '/data/monkey/toliaslab/CSRF19_V4/neuronal_data/CSRF19_V4_3653320713405.pickle',\n",
    "   '/data/monkey/toliaslab/CSRF19_V4/neuronal_data/CSRF19_V4_3750340866612.pickle',\n",
    "   '/data/monkey/toliaslab/CSRF19_V4/neuronal_data/CSRF19_V4_3709044427797.pickle',\n",
    "   '/data/monkey/toliaslab/CSRF19_V4/neuronal_data/CSRF19_V4_3692803081128.pickle',\n",
    "   '/data/monkey/toliaslab/CSRF19_V4/neuronal_data/CSRF19_V4_3708524807328.pickle',\n",
    "   '/data/monkey/toliaslab/CSRF19_V4/neuronal_data/CSRF19_V4_3649169411059.pickle',\n",
    "   '/data/monkey/toliaslab/CSRF19_V4/neuronal_data/CSRF19_V4_3712929593724.pickle',\n",
    "   '/data/monkey/toliaslab/CSRF19_V4/neuronal_data/CSRF19_V4_3649252123347.pickle',\n",
    "   '/data/monkey/toliaslab/CSRF19_V4/neuronal_data/CSRF19_V4_3722438565710.pickle',\n",
    "   '/data/monkey/toliaslab/CSRF19_V4/neuronal_data/CSRF19_V4_3712241082384.pickle',\n",
    "   '/data/monkey/toliaslab/CSRF19_V4/neuronal_data/CSRF19_V4_3751642598412.pickle',\n",
    "   '/data/monkey/toliaslab/CSRF19_V4/neuronal_data/CSRF19_V4_3653924870701.pickle',\n",
    "   '/data/monkey/toliaslab/CSRF19_V4/neuronal_data/CSRF19_V4_3646321567215.pickle',\n",
    "   '/data/monkey/toliaslab/CSRF19_V4/neuronal_data/CSRF19_V4_3707919779504.pickle',\n",
    "   '/data/monkey/toliaslab/CSRF19_V4/neuronal_data/CSRF19_V4_3750425748967.pickle',\n",
    "   '/data/monkey/toliaslab/CSRF19_V4/neuronal_data/CSRF19_V4_3753367464516.pickle',\n",
    "   '/data/monkey/toliaslab/CSRF19_V4/neuronal_data/CSRF19_V4_3731428171903.pickle',\n",
    "   '/data/monkey/toliaslab/CSRF19_V4/neuronal_data/CSRF19_V4_3713453620500.pickle',\n",
    "   '/data/monkey/toliaslab/CSRF19_V4/neuronal_data/CSRF19_V4_3653226873615.pickle',\n",
    "   '/data/monkey/toliaslab/CSRF19_V4/neuronal_data/CSRF19_V4_3650037309346.pickle',\n",
    "   '/data/monkey/toliaslab/CSRF19_V4/neuronal_data/CSRF19_V4_3712155848180.pickle',\n",
    "   '/data/monkey/toliaslab/CSRF19_V4/neuronal_data/CSRF19_V4_3646747773987.pickle',\n",
    "   '/data/monkey/toliaslab/CSRF19_V4/neuronal_data/CSRF19_V4_3713364469057.pickle',\n",
    "   '/data/monkey/toliaslab/CSRF19_V4/neuronal_data/CSRF19_V4_3750168022112.pickle',\n",
    "   '/data/monkey/toliaslab/CSRF19_V4/neuronal_data/CSRF19_V4_3652197206019.pickle',\n",
    "   '/data/monkey/toliaslab/CSRF19_V4/neuronal_data/CSRF19_V4_3654009687031.pickle',\n",
    "   '/data/monkey/toliaslab/CSRF19_V4/neuronal_data/CSRF19_V4_3753282720176.pickle',\n",
    "   '/data/monkey/toliaslab/CSRF19_V4/neuronal_data/CSRF19_V4_3751986795662.pickle',\n",
    "   '/data/monkey/toliaslab/CSRF19_V4/neuronal_data/CSRF19_V4_3733411059011.pickle',\n",
    "   '/data/monkey/toliaslab/CSRF19_V4/neuronal_data/CSRF19_V4_3732890821596.pickle',\n",
    "   '/data/monkey/toliaslab/CSRF19_V4/neuronal_data/CSRF19_V4_3732284443391.pickle',\n",
    "   '/data/monkey/toliaslab/CSRF19_V4/neuronal_data/CSRF19_V4_3691166189967.pickle',\n",
    "   '/data/monkey/toliaslab/CSRF19_V4/neuronal_data/CSRF19_V4_3720103503530.pickle',\n",
    "   '/data/monkey/toliaslab/CSRF19_V4/neuronal_data/CSRF19_V4_3712846676126.pickle',\n",
    "   '/data/monkey/toliaslab/CSRF19_V4/neuronal_data/CSRF19_V4_3692198281175.pickle',\n",
    "   '/data/monkey/toliaslab/CSRF19_V4/neuronal_data/CSRF19_V4_3647439534447.pickle',\n",
    "   '/data/monkey/toliaslab/CSRF19_V4/neuronal_data/CSRF19_V4_3732028703805.pickle',\n",
    "   '/data/monkey/toliaslab/CSRF19_V4/neuronal_data/CSRF19_V4_3748527198188.pickle',\n",
    "   '/data/monkey/toliaslab/CSRF19_V4/neuronal_data/CSRF19_V4_3747317696750.pickle',\n",
    "   '/data/monkey/toliaslab/CSRF19_V4/neuronal_data/CSRF19_V4_3692716394548.pickle',\n",
    "   '/data/monkey/toliaslab/CSRF19_V4/neuronal_data/CSRF19_V4_3751034032929.pickle',\n",
    "   '/data/monkey/toliaslab/CSRF19_V4/neuronal_data/CSRF19_V4_3731593515335.pickle',\n",
    "   '/data/monkey/toliaslab/CSRF19_V4/neuronal_data/CSRF19_V4_3649771255234.pickle',\n",
    "   '/data/monkey/toliaslab/CSRF19_V4/neuronal_data/CSRF19_V4_3646924284383.pickle',\n",
    "   '/data/monkey/toliaslab/CSRF19_V4/neuronal_data/CSRF19_V4_3751555475499.pickle',\n",
    "   '/data/monkey/toliaslab/CSRF19_V4/neuronal_data/CSRF19_V4_3747921558292.pickle',\n",
    "   '/data/monkey/toliaslab/CSRF19_V4/neuronal_data/CSRF19_V4_3648475457626.pickle',\n",
    "   '/data/monkey/toliaslab/CSRF19_V4/neuronal_data/CSRF19_V4_3746626147103.pickle',\n",
    "   '/data/monkey/toliaslab/CSRF19_V4/neuronal_data/CSRF19_V4_3732808128055.pickle',\n",
    "   '/data/monkey/toliaslab/CSRF19_V4/neuronal_data/CSRF19_V4_3751380721375.pickle',\n",
    "   '/data/monkey/toliaslab/CSRF19_V4/neuronal_data/CSRF19_V4_3646657276979.pickle',\n",
    "   '/data/monkey/toliaslab/CSRF19_V4/neuronal_data/CSRF19_V4_3705414317880.pickle',\n",
    "   '/data/monkey/toliaslab/CSRF19_V4/neuronal_data/CSRF19_V4_3653061170515.pickle',\n",
    "   '/data/monkey/toliaslab/CSRF19_V4/neuronal_data/CSRF19_V4_3690561673793.pickle',\n",
    "   '/data/monkey/toliaslab/CSRF19_V4/neuronal_data/CSRF19_V4_3645713184967.pickle',\n",
    "   '/data/monkey/toliaslab/CSRF19_V4/neuronal_data/CSRF19_V4_3732717352922.pickle',\n",
    "   '/data/monkey/toliaslab/CSRF19_V4/neuronal_data/CSRF19_V4_3647531807425.pickle',\n",
    "   '/data/monkey/toliaslab/CSRF19_V4/neuronal_data/CSRF19_V4_3648221742562.pickle',\n",
    "   '/data/monkey/toliaslab/CSRF19_V4/neuronal_data/CSRF19_V4_3690990614288.pickle',\n",
    "   '/data/monkey/toliaslab/CSRF19_V4/neuronal_data/CSRF19_V4_4722438565710.pickle',\n",
    "   '/data/monkey/toliaslab/CSRF19_V4/neuronal_data/CSRF19_V4_3708698030781.pickle',\n",
    "   '/data/monkey/toliaslab/CSRF19_V4/neuronal_data/CSRF19_V4_3731509601777.pickle',\n",
    "   '/data/monkey/toliaslab/CSRF19_V4/neuronal_data/CSRF19_V4_3714143368022.pickle',\n",
    "   '/data/monkey/toliaslab/CSRF19_V4/neuronal_data/CSRF19_V4_3648644839726.pickle',\n",
    "   '/data/monkey/toliaslab/CSRF19_V4/neuronal_data/CSRF19_V4_3646146362280.pickle',\n",
    "   '/data/monkey/toliaslab/CSRF19_V4/neuronal_data/CSRF19_V4_3750947602251.pickle'],\n",
    "  'image_cache_path': '/data/monkey/toliaslab/CSRF19_V4/images/',\n",
    "  'crop': [[18, 18], [110, 110]],\n",
    "  'subsample': 1,\n",
    "  'scale': 0.5,\n",
    "  'seed': 1000,\n",
    "  'time_bins_sum': [2, 3, 4, 5, 6, 7, 8, 9, 10, 11],\n",
    "  'batch_size': 64,\n",
    "  'include_prev_image': False,\n",
    "  'include_trial_id': False,\n",
    "  'img_mean': 124.34,\n",
    "  'img_std': 70.28})\n",
    "\n",
    "model_fn, model_config = ('nnvision.models.ptrmodels.task_core_gauss_readout',\n",
    " {'input_channels': 1,\n",
    "  'model_name': 'resnet50_l2_eps0_1',\n",
    "  'layer_name': 'layer3.0',\n",
    "  'pretrained': False,\n",
    "  'bias': False,\n",
    "  'final_batchnorm': True,\n",
    "  'final_nonlinearity': True,\n",
    "  'momentum': 0.1,\n",
    "  'fine_tune': True,\n",
    "  'init_mu_range': 0.4,\n",
    "  'init_sigma_range': 0.6,\n",
    "  'readout_bias': True,\n",
    "  'gamma_readout': 3.0,\n",
    "  'gauss_type': 'isotropic',\n",
    "  'elu_offset': -1,\n",
    "  'data_info': None})\n",
    "\n",
    "trainer_fn, trainer_config = ('nnvision.training.trainers.nnvision_trainer',\n",
    " {'stop_function': 'get_poisson_loss',\n",
    "  'maximize': False,\n",
    "  'avg_loss': False,\n",
    "  'device': 'cuda',\n",
    "  'max_iter': 200, # 200\n",
    "  'lr_init': 3 * 10e-4,\n",
    "  'lr_decay_steps': 5,\n",
    "  'patience': 5,\n",
    "  'verbose': True,\n",
    "  'adamw': True,\n",
    "  'return_test_score': True\n",
    " })"
   ]
  },
  {
   "cell_type": "code",
   "execution_count": 3,
   "metadata": {},
   "outputs": [
    {
     "name": "stderr",
     "output_type": "stream",
     "text": [
      "Files Processing: 100% 100/100 [00:24<00:00,  4.06it/s]\n",
      "/usr/local/lib/python3.9/dist-packages/skimage/_shared/utils.py:338: FutureWarning: `multichannel` is a deprecated argument name for `rescale`. It will be removed in version 1.0.Please use `channel_axis` instead.\n",
      "  return func(*args, **kwargs)\n"
     ]
    }
   ],
   "source": [
    "dataloaders = get_data(dataset_fn, dataset_config)"
   ]
  },
  {
   "cell_type": "code",
   "execution_count": 4,
   "metadata": {},
   "outputs": [
    {
     "data": {
      "text/plain": [
       "torch.Size([64, 1, 100, 100])"
      ]
     },
     "execution_count": 4,
     "metadata": {},
     "output_type": "execute_result"
    }
   ],
   "source": [
    "next(iter(dataloaders['train']['all_sessions'])).inputs.shape"
   ]
  },
  {
   "cell_type": "markdown",
   "metadata": {},
   "source": [
    "## Task Driven | Gaussian"
   ]
  },
  {
   "cell_type": "code",
   "execution_count": 5,
   "metadata": {},
   "outputs": [
    {
     "name": "stdin",
     "output_type": "stream",
     "text": [
      "Please enter DataJoint username:  \n",
      "Please enter DataJoint password:  \n"
     ]
    },
    {
     "name": "stdout",
     "output_type": "stream",
     "text": [
      "Connecting @localhost:3306\n",
      "datajoint connection not established, skipping model imports from nnfabrik tables\n"
     ]
    },
    {
     "name": "stderr",
     "output_type": "stream",
     "text": [
      "/usr/local/lib/python3.9/dist-packages/skimage/_shared/utils.py:338: FutureWarning: `multichannel` is a deprecated argument name for `rescale`. It will be removed in version 1.0.Please use `channel_axis` instead.\n",
      "  return func(*args, **kwargs)\n",
      "Downloading: \"https://huggingface.co/madrylab/robust-imagenet-models/resolve/main/resnet50_l2_eps0.1.ckpt\" to /root/.cache/torch/hub/checkpoints/resnet50_l2_eps0.1.ckpt\n"
     ]
    },
    {
     "data": {
      "application/vnd.jupyter.widget-view+json": {
       "model_id": "a2523f4121ab42e1b8c21ba8ef640e02",
       "version_major": 2,
       "version_minor": 0
      },
      "text/plain": [
       "  0%|          | 0.00/195M [00:00<?, ?B/s]"
      ]
     },
     "metadata": {},
     "output_type": "display_data"
    },
    {
     "name": "stderr",
     "output_type": "stream",
     "text": [
      "/usr/local/lib/python3.9/dist-packages/torch/nn/functional.py:718: UserWarning: Named tensors and all their associated APIs are an experimental feature and subject to change. Please do not use them for anything important until they are released as stable. (Triggered internally at  /pytorch/c10/core/TensorImpl.h:1156.)\n",
      "  return torch.max_pool2d(input, kernel_size, stride, padding, dilation, ceil_mode)\n",
      "Epoch 1: 100% 300/300 [00:35<00:00,  8.56it/s]\n"
     ]
    },
    {
     "name": "stdout",
     "output_type": "stream",
     "text": [
      "[001|00/05] ---> 0.15104499006686692\n"
     ]
    },
    {
     "name": "stderr",
     "output_type": "stream",
     "text": [
      "Epoch 2: 100% 300/300 [00:10<00:00, 29.86it/s]\n"
     ]
    },
    {
     "name": "stdout",
     "output_type": "stream",
     "text": [
      "[002|00/05] ---> 0.13309882783463006\n"
     ]
    },
    {
     "name": "stderr",
     "output_type": "stream",
     "text": [
      "Epoch 3: 100% 300/300 [00:09<00:00, 30.07it/s]\n"
     ]
    },
    {
     "name": "stdout",
     "output_type": "stream",
     "text": [
      "[003|00/05] ---> 0.12469394215905814\n"
     ]
    },
    {
     "name": "stderr",
     "output_type": "stream",
     "text": [
      "Epoch 4: 100% 300/300 [00:10<00:00, 29.97it/s]\n"
     ]
    },
    {
     "name": "stdout",
     "output_type": "stream",
     "text": [
      "[004|00/05] ---> 0.1196878597234991\n"
     ]
    },
    {
     "name": "stderr",
     "output_type": "stream",
     "text": [
      "Epoch 5: 100% 300/300 [00:09<00:00, 30.27it/s]\n"
     ]
    },
    {
     "name": "stdout",
     "output_type": "stream",
     "text": [
      "[005|00/05] ---> 0.11779722211559619\n"
     ]
    },
    {
     "name": "stderr",
     "output_type": "stream",
     "text": [
      "Epoch 6: 100% 300/300 [00:10<00:00, 29.77it/s]\n"
     ]
    },
    {
     "name": "stdout",
     "output_type": "stream",
     "text": [
      "[006|00/05] ---> 0.11578661609581571\n"
     ]
    },
    {
     "name": "stderr",
     "output_type": "stream",
     "text": [
      "Epoch 7: 100% 300/300 [00:09<00:00, 30.18it/s]\n"
     ]
    },
    {
     "name": "stdout",
     "output_type": "stream",
     "text": [
      "[007|00/05] ---> 0.11467382375658604\n"
     ]
    },
    {
     "name": "stderr",
     "output_type": "stream",
     "text": [
      "Epoch 8: 100% 300/300 [00:10<00:00, 29.71it/s]\n"
     ]
    },
    {
     "name": "stdout",
     "output_type": "stream",
     "text": [
      "[008|00/05] ---> 0.11301102755926232\n"
     ]
    },
    {
     "name": "stderr",
     "output_type": "stream",
     "text": [
      "Epoch 9: 100% 300/300 [00:09<00:00, 30.36it/s]\n"
     ]
    },
    {
     "name": "stdout",
     "output_type": "stream",
     "text": [
      "[009|00/05] ---> 0.11296075598240607\n"
     ]
    },
    {
     "name": "stderr",
     "output_type": "stream",
     "text": [
      "Epoch 10: 100% 300/300 [00:10<00:00, 29.96it/s]\n"
     ]
    },
    {
     "name": "stdout",
     "output_type": "stream",
     "text": [
      "[010|00/05] ---> 0.11264314065018867\n"
     ]
    },
    {
     "name": "stderr",
     "output_type": "stream",
     "text": [
      "Epoch 11: 100% 300/300 [00:10<00:00, 29.71it/s]\n"
     ]
    },
    {
     "name": "stdout",
     "output_type": "stream",
     "text": [
      "[011|00/05] ---> 0.11252813771855338\n"
     ]
    },
    {
     "name": "stderr",
     "output_type": "stream",
     "text": [
      "Epoch 12: 100% 300/300 [00:09<00:00, 30.18it/s]\n"
     ]
    },
    {
     "name": "stdout",
     "output_type": "stream",
     "text": [
      "[012|00/05] ---> 0.11218220075428122\n"
     ]
    },
    {
     "name": "stderr",
     "output_type": "stream",
     "text": [
      "Epoch 13: 100% 300/300 [00:10<00:00, 29.63it/s]\n"
     ]
    },
    {
     "name": "stdout",
     "output_type": "stream",
     "text": [
      "[013|00/05] ---> 0.11193863308037455\n"
     ]
    },
    {
     "name": "stderr",
     "output_type": "stream",
     "text": [
      "Epoch 14: 100% 300/300 [00:09<00:00, 30.35it/s]\n"
     ]
    },
    {
     "name": "stdout",
     "output_type": "stream",
     "text": [
      "[014|01/05] -/-> 0.11202226055455701\n"
     ]
    },
    {
     "name": "stderr",
     "output_type": "stream",
     "text": [
      "Epoch 15: 100% 300/300 [00:09<00:00, 30.15it/s]\n"
     ]
    },
    {
     "name": "stdout",
     "output_type": "stream",
     "text": [
      "[015|01/05] ---> 0.11148876994036537\n"
     ]
    },
    {
     "name": "stderr",
     "output_type": "stream",
     "text": [
      "Epoch 16: 100% 300/300 [00:10<00:00, 29.47it/s]\n"
     ]
    },
    {
     "name": "stdout",
     "output_type": "stream",
     "text": [
      "[016|01/05] -/-> 0.11179924713146644\n"
     ]
    },
    {
     "name": "stderr",
     "output_type": "stream",
     "text": [
      "Epoch 17: 100% 300/300 [00:09<00:00, 30.32it/s]\n"
     ]
    },
    {
     "name": "stdout",
     "output_type": "stream",
     "text": [
      "[017|01/05] ---> 0.11139622081364998\n"
     ]
    },
    {
     "name": "stderr",
     "output_type": "stream",
     "text": [
      "Epoch 18: 100% 300/300 [00:10<00:00, 29.57it/s]\n"
     ]
    },
    {
     "name": "stdout",
     "output_type": "stream",
     "text": [
      "[018|00/05] ---> 0.11075160180847596\n"
     ]
    },
    {
     "name": "stderr",
     "output_type": "stream",
     "text": [
      "Epoch 19: 100% 300/300 [00:10<00:00, 29.63it/s]\n"
     ]
    },
    {
     "name": "stdout",
     "output_type": "stream",
     "text": [
      "[019|01/05] -/-> 0.11099600286248415\n"
     ]
    },
    {
     "name": "stderr",
     "output_type": "stream",
     "text": [
      "Epoch 20: 100% 300/300 [00:10<00:00, 29.89it/s]\n"
     ]
    },
    {
     "name": "stdout",
     "output_type": "stream",
     "text": [
      "[020|02/05] -/-> 0.11131223125319104\n"
     ]
    },
    {
     "name": "stderr",
     "output_type": "stream",
     "text": [
      "Epoch 21: 100% 300/300 [00:10<00:00, 29.42it/s]\n"
     ]
    },
    {
     "name": "stdout",
     "output_type": "stream",
     "text": [
      "[021|03/05] -/-> 0.11130590441753699\n"
     ]
    },
    {
     "name": "stderr",
     "output_type": "stream",
     "text": [
      "Epoch 22: 100% 300/300 [00:09<00:00, 30.80it/s]\n"
     ]
    },
    {
     "name": "stdout",
     "output_type": "stream",
     "text": [
      "[022|04/05] -/-> 0.11099862891236818\n"
     ]
    },
    {
     "name": "stderr",
     "output_type": "stream",
     "text": [
      "Epoch 23: 100% 300/300 [00:10<00:00, 29.99it/s]\n"
     ]
    },
    {
     "name": "stdout",
     "output_type": "stream",
     "text": [
      "[023|05/05] -/-> 0.11082339399030677\n",
      "Restoring best model after lr decay! 0.110823 ---> 0.110752\n"
     ]
    },
    {
     "name": "stderr",
     "output_type": "stream",
     "text": [
      "Epoch 24: 100% 300/300 [00:09<00:00, 30.09it/s]\n"
     ]
    },
    {
     "name": "stdout",
     "output_type": "stream",
     "text": [
      "Epoch    24: reducing learning rate of group 0 to 9.0000e-04.\n",
      "[024|01/05] -/-> 0.11134545900549261\n"
     ]
    },
    {
     "name": "stderr",
     "output_type": "stream",
     "text": [
      "Epoch 25: 100% 300/300 [00:10<00:00, 29.92it/s]\n"
     ]
    },
    {
     "name": "stdout",
     "output_type": "stream",
     "text": [
      "[025|01/05] ---> 0.10609010218975466\n"
     ]
    },
    {
     "name": "stderr",
     "output_type": "stream",
     "text": [
      "Epoch 26: 100% 300/300 [00:10<00:00, 29.83it/s]\n"
     ]
    },
    {
     "name": "stdout",
     "output_type": "stream",
     "text": [
      "[026|01/05] -/-> 0.10613311500283915\n"
     ]
    },
    {
     "name": "stderr",
     "output_type": "stream",
     "text": [
      "Epoch 27: 100% 300/300 [00:09<00:00, 30.26it/s]\n"
     ]
    },
    {
     "name": "stdout",
     "output_type": "stream",
     "text": [
      "[027|02/05] -/-> 0.10628709579011217\n"
     ]
    },
    {
     "name": "stderr",
     "output_type": "stream",
     "text": [
      "Epoch 28: 100% 300/300 [00:10<00:00, 29.88it/s]\n"
     ]
    },
    {
     "name": "stdout",
     "output_type": "stream",
     "text": [
      "[028|03/05] -/-> 0.10628660730697957\n"
     ]
    },
    {
     "name": "stderr",
     "output_type": "stream",
     "text": [
      "Epoch 29: 100% 300/300 [00:09<00:00, 30.58it/s]\n"
     ]
    },
    {
     "name": "stdout",
     "output_type": "stream",
     "text": [
      "[029|04/05] -/-> 0.10614178046860633\n"
     ]
    },
    {
     "name": "stderr",
     "output_type": "stream",
     "text": [
      "Epoch 30: 100% 300/300 [00:09<00:00, 30.87it/s]\n"
     ]
    },
    {
     "name": "stdout",
     "output_type": "stream",
     "text": [
      "[030|04/05] ---> 0.10606351736512573\n"
     ]
    },
    {
     "name": "stderr",
     "output_type": "stream",
     "text": [
      "Epoch 31: 100% 300/300 [00:09<00:00, 30.70it/s]\n"
     ]
    },
    {
     "name": "stdout",
     "output_type": "stream",
     "text": [
      "[031|01/05] -/-> 0.10622800673544197\n"
     ]
    },
    {
     "name": "stderr",
     "output_type": "stream",
     "text": [
      "Epoch 32: 100% 300/300 [00:09<00:00, 30.11it/s]\n"
     ]
    },
    {
     "name": "stdout",
     "output_type": "stream",
     "text": [
      "[032|02/05] -/-> 0.10635223686244762\n"
     ]
    },
    {
     "name": "stderr",
     "output_type": "stream",
     "text": [
      "Epoch 33: 100% 300/300 [00:09<00:00, 30.63it/s]\n"
     ]
    },
    {
     "name": "stdout",
     "output_type": "stream",
     "text": [
      "[033|02/05] ---> 0.10599710063805273\n"
     ]
    },
    {
     "name": "stderr",
     "output_type": "stream",
     "text": [
      "Epoch 34: 100% 300/300 [00:10<00:00, 29.43it/s]\n"
     ]
    },
    {
     "name": "stdout",
     "output_type": "stream",
     "text": [
      "[034|00/05] ---> 0.10596911005012721\n"
     ]
    },
    {
     "name": "stderr",
     "output_type": "stream",
     "text": [
      "Epoch 35: 100% 300/300 [00:09<00:00, 30.40it/s]\n"
     ]
    },
    {
     "name": "stdout",
     "output_type": "stream",
     "text": [
      "[035|00/05] ---> 0.10594523858629991\n"
     ]
    },
    {
     "name": "stderr",
     "output_type": "stream",
     "text": [
      "Epoch 36: 100% 300/300 [00:10<00:00, 29.53it/s]\n"
     ]
    },
    {
     "name": "stdout",
     "output_type": "stream",
     "text": [
      "[036|01/05] -/-> 0.10609111631193839\n"
     ]
    },
    {
     "name": "stderr",
     "output_type": "stream",
     "text": [
      "Epoch 37: 100% 300/300 [00:09<00:00, 30.58it/s]\n"
     ]
    },
    {
     "name": "stdout",
     "output_type": "stream",
     "text": [
      "[037|01/05] ---> 0.10577694420823386\n"
     ]
    },
    {
     "name": "stderr",
     "output_type": "stream",
     "text": [
      "Epoch 38: 100% 300/300 [00:10<00:00, 29.74it/s]\n"
     ]
    },
    {
     "name": "stdout",
     "output_type": "stream",
     "text": [
      "[038|01/05] -/-> 0.10613522427117306\n"
     ]
    },
    {
     "name": "stderr",
     "output_type": "stream",
     "text": [
      "Epoch 39: 100% 300/300 [00:09<00:00, 30.14it/s]\n"
     ]
    },
    {
     "name": "stdout",
     "output_type": "stream",
     "text": [
      "[039|02/05] -/-> 0.10579087512122894\n"
     ]
    },
    {
     "name": "stderr",
     "output_type": "stream",
     "text": [
      "Epoch 40: 100% 300/300 [00:09<00:00, 30.30it/s]\n"
     ]
    },
    {
     "name": "stdout",
     "output_type": "stream",
     "text": [
      "[040|03/05] -/-> 0.1060934701732355\n"
     ]
    },
    {
     "name": "stderr",
     "output_type": "stream",
     "text": [
      "Epoch 41: 100% 300/300 [00:09<00:00, 30.19it/s]\n"
     ]
    },
    {
     "name": "stdout",
     "output_type": "stream",
     "text": [
      "[041|04/05] -/-> 0.10615988455704366\n"
     ]
    },
    {
     "name": "stderr",
     "output_type": "stream",
     "text": [
      "Epoch 42: 100% 300/300 [00:09<00:00, 30.11it/s]\n"
     ]
    },
    {
     "name": "stdout",
     "output_type": "stream",
     "text": [
      "[042|05/05] -/-> 0.10610178827982486\n",
      "Restoring best model after lr decay! 0.106102 ---> 0.105777\n"
     ]
    },
    {
     "name": "stderr",
     "output_type": "stream",
     "text": [
      "Epoch 43: 100% 300/300 [00:10<00:00, 29.61it/s]\n"
     ]
    },
    {
     "name": "stdout",
     "output_type": "stream",
     "text": [
      "Epoch    43: reducing learning rate of group 0 to 2.7000e-04.\n",
      "[043|01/05] -/-> 0.1060623631115314\n"
     ]
    },
    {
     "name": "stderr",
     "output_type": "stream",
     "text": [
      "Epoch 44: 100% 300/300 [00:09<00:00, 30.48it/s]\n"
     ]
    },
    {
     "name": "stdout",
     "output_type": "stream",
     "text": [
      "[044|01/05] ---> 0.10382669975903093\n"
     ]
    },
    {
     "name": "stderr",
     "output_type": "stream",
     "text": [
      "Epoch 45: 100% 300/300 [00:10<00:00, 29.77it/s]\n"
     ]
    },
    {
     "name": "stdout",
     "output_type": "stream",
     "text": [
      "[045|01/05] -/-> 0.1038453130797352\n"
     ]
    },
    {
     "name": "stderr",
     "output_type": "stream",
     "text": [
      "Epoch 46: 100% 300/300 [00:10<00:00, 29.92it/s]\n"
     ]
    },
    {
     "name": "stdout",
     "output_type": "stream",
     "text": [
      "[046|02/05] -/-> 0.10392677085874896\n"
     ]
    },
    {
     "name": "stderr",
     "output_type": "stream",
     "text": [
      "Epoch 47: 100% 300/300 [00:10<00:00, 29.73it/s]\n"
     ]
    },
    {
     "name": "stdout",
     "output_type": "stream",
     "text": [
      "[047|03/05] -/-> 0.10388989511740819\n"
     ]
    },
    {
     "name": "stderr",
     "output_type": "stream",
     "text": [
      "Epoch 48: 100% 300/300 [00:09<00:00, 30.06it/s]\n"
     ]
    },
    {
     "name": "stdout",
     "output_type": "stream",
     "text": [
      "[048|04/05] -/-> 0.10394638534733563\n"
     ]
    },
    {
     "name": "stderr",
     "output_type": "stream",
     "text": [
      "Epoch 49: 100% 300/300 [00:09<00:00, 30.61it/s]\n"
     ]
    },
    {
     "name": "stdout",
     "output_type": "stream",
     "text": [
      "[049|05/05] -/-> 0.10397980786918298\n",
      "Restoring best model after lr decay! 0.103980 ---> 0.103827\n"
     ]
    },
    {
     "name": "stderr",
     "output_type": "stream",
     "text": [
      "Epoch 50: 100% 300/300 [00:09<00:00, 30.22it/s]\n"
     ]
    },
    {
     "name": "stdout",
     "output_type": "stream",
     "text": [
      "[050|00/05] ---> 0.10375582292144885\n"
     ]
    },
    {
     "name": "stderr",
     "output_type": "stream",
     "text": [
      "Epoch 51: 100% 300/300 [00:09<00:00, 30.27it/s]\n"
     ]
    },
    {
     "name": "stdout",
     "output_type": "stream",
     "text": [
      "[051|01/05] -/-> 0.10377756142561152\n"
     ]
    },
    {
     "name": "stderr",
     "output_type": "stream",
     "text": [
      "Epoch 52: 100% 300/300 [00:09<00:00, 30.31it/s]\n"
     ]
    },
    {
     "name": "stdout",
     "output_type": "stream",
     "text": [
      "[052|02/05] -/-> 0.10381885990638003\n"
     ]
    },
    {
     "name": "stderr",
     "output_type": "stream",
     "text": [
      "Epoch 53: 100% 300/300 [00:09<00:00, 30.32it/s]\n"
     ]
    },
    {
     "name": "stdout",
     "output_type": "stream",
     "text": [
      "[053|03/05] -/-> 0.1039256869123654\n"
     ]
    },
    {
     "name": "stderr",
     "output_type": "stream",
     "text": [
      "Epoch 54: 100% 300/300 [00:09<00:00, 30.75it/s]\n"
     ]
    },
    {
     "name": "stdout",
     "output_type": "stream",
     "text": [
      "[054|04/05] -/-> 0.10383480507747103\n"
     ]
    },
    {
     "name": "stderr",
     "output_type": "stream",
     "text": [
      "Epoch 55: 100% 300/300 [00:09<00:00, 30.35it/s]\n"
     ]
    },
    {
     "name": "stdout",
     "output_type": "stream",
     "text": [
      "[055|05/05] -/-> 0.10394030068660709\n",
      "Restoring best model after lr decay! 0.103940 ---> 0.103756\n"
     ]
    },
    {
     "name": "stderr",
     "output_type": "stream",
     "text": [
      "Epoch 56: 100% 300/300 [00:09<00:00, 30.39it/s]\n"
     ]
    },
    {
     "name": "stdout",
     "output_type": "stream",
     "text": [
      "Epoch    56: reducing learning rate of group 0 to 1.0000e-04.\n",
      "[056|01/05] -/-> 0.10380985282412433\n"
     ]
    },
    {
     "name": "stderr",
     "output_type": "stream",
     "text": [
      "Epoch 57: 100% 300/300 [00:09<00:00, 30.67it/s]\n"
     ]
    },
    {
     "name": "stdout",
     "output_type": "stream",
     "text": [
      "[057|01/05] ---> 0.10351991914648512\n"
     ]
    },
    {
     "name": "stderr",
     "output_type": "stream",
     "text": [
      "Epoch 58: 100% 300/300 [00:09<00:00, 30.09it/s]\n"
     ]
    },
    {
     "name": "stdout",
     "output_type": "stream",
     "text": [
      "[058|00/05] ---> 0.10347477289131937\n"
     ]
    },
    {
     "name": "stderr",
     "output_type": "stream",
     "text": [
      "Epoch 59: 100% 300/300 [00:10<00:00, 29.91it/s]\n"
     ]
    },
    {
     "name": "stdout",
     "output_type": "stream",
     "text": [
      "[059|01/05] -/-> 0.10354755032157395\n"
     ]
    },
    {
     "name": "stderr",
     "output_type": "stream",
     "text": [
      "Epoch 60: 100% 300/300 [00:10<00:00, 29.91it/s]\n"
     ]
    },
    {
     "name": "stdout",
     "output_type": "stream",
     "text": [
      "[060|02/05] -/-> 0.10363064212515323\n"
     ]
    },
    {
     "name": "stderr",
     "output_type": "stream",
     "text": [
      "Epoch 61: 100% 300/300 [00:09<00:00, 30.58it/s]\n"
     ]
    },
    {
     "name": "stdout",
     "output_type": "stream",
     "text": [
      "[061|02/05] ---> 0.1034222562073916\n"
     ]
    },
    {
     "name": "stderr",
     "output_type": "stream",
     "text": [
      "Epoch 62: 100% 300/300 [00:09<00:00, 30.36it/s]\n"
     ]
    },
    {
     "name": "stdout",
     "output_type": "stream",
     "text": [
      "[062|01/05] -/-> 0.10346952026835704\n"
     ]
    },
    {
     "name": "stderr",
     "output_type": "stream",
     "text": [
      "Epoch 63: 100% 300/300 [00:10<00:00, 29.41it/s]\n"
     ]
    },
    {
     "name": "stdout",
     "output_type": "stream",
     "text": [
      "[063|02/05] -/-> 0.1034493737765342\n"
     ]
    },
    {
     "name": "stderr",
     "output_type": "stream",
     "text": [
      "Epoch 64: 100% 300/300 [00:10<00:00, 29.62it/s]\n"
     ]
    },
    {
     "name": "stdout",
     "output_type": "stream",
     "text": [
      "[064|03/05] -/-> 0.10350339328367886\n"
     ]
    },
    {
     "name": "stderr",
     "output_type": "stream",
     "text": [
      "Epoch 65: 100% 300/300 [00:10<00:00, 29.89it/s]\n"
     ]
    },
    {
     "name": "stdout",
     "output_type": "stream",
     "text": [
      "[065|04/05] -/-> 0.10343287122042455\n"
     ]
    },
    {
     "name": "stderr",
     "output_type": "stream",
     "text": [
      "Epoch 66: 100% 300/300 [00:10<00:00, 29.91it/s]\n"
     ]
    },
    {
     "name": "stdout",
     "output_type": "stream",
     "text": [
      "[066|05/05] -/-> 0.10369751842536802\n",
      "Restoring best model after lr decay! 0.103698 ---> 0.103422\n",
      "Restoring best model! 0.103422 ---> 0.103422\n"
     ]
    },
    {
     "data": {
      "text/plain": [
       "0.2619708596289779"
      ]
     },
     "execution_count": 5,
     "metadata": {},
     "output_type": "execute_result"
    }
   ],
   "source": [
    "model_fn = 'nnvision.models.ptrmodels.task_core_gauss_readout'\n",
    "model_config =  {\n",
    "  'input_channels': 1,\n",
    "  'model_name': 'resnet50_l2_eps0_1',\n",
    "  'layer_name': 'layer3.0',\n",
    "  'pretrained': True,\n",
    "  'bias': False,\n",
    "  'final_batchnorm': True,\n",
    "  'final_nonlinearity': True,\n",
    "  'momentum': 0.1,\n",
    "  'fine_tune': False,\n",
    "  'init_mu_range': 0.4,\n",
    "  'init_sigma_range': 0.6,\n",
    "  'readout_bias': True,\n",
    "  'gamma_readout': 3.0,\n",
    "  'gauss_type': 'isotropic',\n",
    "  'elu_offset': -1,\n",
    "}\n",
    "\n",
    "trainer = get_trainer(trainer_fn, trainer_config)\n",
    "\n",
    "model = get_model(model_fn, model_config, dataloaders=dataloaders, seed=0)\n",
    "model.cuda().train();\n",
    "\n",
    "test_correlation, output, state_dict = trainer(model, dataloaders, seed=42)\n",
    "\n",
    "test_correlation"
   ]
  },
  {
   "cell_type": "code",
   "execution_count": null,
   "outputs": [],
   "source": [
    "model_fn = 'nnvision.models.ptrmodels.task_core_gauss_readout'\n",
    "model_config =  {\n",
    "  'input_channels': 1,\n",
    "  'model_name': 'resnet50_l2_eps0_1',\n",
    "  'layer_name': 'layer3.0',\n",
    "  'pretrained': False,\n",
    "  'bias': False,\n",
    "  'final_batchnorm': True,\n",
    "  'final_nonlinearity': True,\n",
    "  'momentum': 0.1,\n",
    "  'fine_tune': True,\n",
    "  'init_mu_range': 0.4,\n",
    "  'init_sigma_range': 0.6,\n",
    "  'readout_bias': True,\n",
    "  'gamma_readout': 3.0,\n",
    "  'gauss_type': 'isotropic',\n",
    "  'elu_offset': -1,\n",
    "}\n",
    "\n",
    "trainer = get_trainer(trainer_fn, trainer_config)\n",
    "\n",
    "model = get_model(model_fn, model_config, dataloaders=dataloaders, seed=0)\n",
    "model.cuda().train();\n",
    "\n",
    "test_correlation, output, state_dict = trainer(model, dataloaders, seed=42)\n",
    "\n",
    "test_correlation"
   ],
   "metadata": {
    "collapsed": false,
    "pycharm": {
     "name": "#%%\n"
    }
   }
  },
  {
   "cell_type": "markdown",
   "metadata": {},
   "source": [
    "## Task Driven | Attention"
   ]
  },
  {
   "cell_type": "code",
   "execution_count": null,
   "metadata": {},
   "outputs": [
    {
     "name": "stderr",
     "output_type": "stream",
     "text": [
      "Epoch 1: 100% 300/300 [00:14<00:00, 20.74it/s]\n"
     ]
    },
    {
     "name": "stdout",
     "output_type": "stream",
     "text": [
      "[001|00/05] ---> 0.14363622820878727\n"
     ]
    },
    {
     "name": "stderr",
     "output_type": "stream",
     "text": [
      "Epoch 2: 100% 300/300 [00:14<00:00, 21.19it/s]\n"
     ]
    },
    {
     "name": "stdout",
     "output_type": "stream",
     "text": [
      "[002|00/05] ---> 0.1356117892064256\n"
     ]
    },
    {
     "name": "stderr",
     "output_type": "stream",
     "text": [
      "Epoch 3: 100% 300/300 [00:14<00:00, 20.91it/s]\n"
     ]
    },
    {
     "name": "stdout",
     "output_type": "stream",
     "text": [
      "[003|00/05] ---> 0.1331110525833153\n"
     ]
    },
    {
     "name": "stderr",
     "output_type": "stream",
     "text": [
      "Epoch 4: 100% 300/300 [00:14<00:00, 20.87it/s]\n"
     ]
    },
    {
     "name": "stdout",
     "output_type": "stream",
     "text": [
      "[004|00/05] ---> 0.13282878466467907\n"
     ]
    },
    {
     "name": "stderr",
     "output_type": "stream",
     "text": [
      "Epoch 5: 100% 300/300 [00:14<00:00, 20.99it/s]\n"
     ]
    }
   ],
   "source": [
    "model_fn = 'nnvision.models.ptrmodels.custom_task_core_multihead_attention'\n",
    "model_config =  {\n",
    "    'input_channels': 1,\n",
    "    'model_name': 'resnet50_l2_eps0_1',\n",
    "    'layer_name': 'layer3.0',\n",
    "    'pretrained': True,\n",
    "    'bias': False,\n",
    "    'final_batchnorm': True,\n",
    "    'final_nonlinearity': True,\n",
    "    'momentum': 0.1,\n",
    "    'fine_tune': False,\n",
    "    'readout_bias': True,\n",
    "\n",
    "    \"use_pos_enc\": True,\n",
    "    \"dropout_pos\": 0.1,\n",
    "    \"final_nonlinearity\": True,\n",
    "    \"key_embedding\": True,\n",
    "    \"value_embedding\": True,\n",
    "    \"layer_norm\": False,\n",
    "    \"scale\": True,\n",
    "    \"learned_pos\": False,\n",
    "    \"gamma_query\": 1,\n",
    "    \"gamma_features\": 1,\n",
    "    \"heads\": 1,\n",
    "    \"temperature\": [True, 1],\n",
    "}\n",
    "\n",
    "trainer = get_trainer(trainer_fn, trainer_config)\n",
    "\n",
    "model = get_model(model_fn, model_config, dataloaders=dataloaders, seed=0)\n",
    "model.cuda().train();\n",
    "\n",
    "test_correlation, output, state_dict = trainer(model, dataloaders, seed=42)\n",
    "\n",
    "test_correlation"
   ]
  },
  {
   "cell_type": "code",
   "execution_count": 7,
   "metadata": {},
   "outputs": [
    {
     "data": {
      "text/plain": [
       "0.2759113943899222"
      ]
     },
     "execution_count": 7,
     "metadata": {},
     "output_type": "execute_result"
    }
   ],
   "source": [
    "test_correlation"
   ]
  },
  {
   "cell_type": "markdown",
   "metadata": {},
   "source": [
    "## Data Driven | Attention"
   ]
  },
  {
   "cell_type": "code",
   "execution_count": null,
   "metadata": {},
   "outputs": [
    {
     "name": "stderr",
     "output_type": "stream",
     "text": [
      "Epoch 1: 100% 300/300 [01:36<00:00,  3.10it/s]\n"
     ]
    },
    {
     "name": "stdout",
     "output_type": "stream",
     "text": [
      "[001|00/05] ---> 0.16544114656001652\n"
     ]
    },
    {
     "name": "stderr",
     "output_type": "stream",
     "text": [
      "Epoch 2: 100% 300/300 [01:37<00:00,  3.09it/s]\n"
     ]
    },
    {
     "name": "stdout",
     "output_type": "stream",
     "text": [
      "[002|00/05] ---> 0.1518488750117098\n"
     ]
    },
    {
     "name": "stderr",
     "output_type": "stream",
     "text": [
      "Epoch 3: 100% 300/300 [01:37<00:00,  3.08it/s]\n"
     ]
    },
    {
     "name": "stdout",
     "output_type": "stream",
     "text": [
      "[003|00/05] ---> 0.1414002917755665\n"
     ]
    },
    {
     "name": "stderr",
     "output_type": "stream",
     "text": [
      "Epoch 4: 100% 300/300 [01:37<00:00,  3.09it/s]\n"
     ]
    },
    {
     "name": "stdout",
     "output_type": "stream",
     "text": [
      "[004|00/05] ---> 0.13294387023307525\n"
     ]
    },
    {
     "name": "stderr",
     "output_type": "stream",
     "text": [
      "Epoch 5: 100% 300/300 [01:37<00:00,  3.09it/s]\n"
     ]
    },
    {
     "name": "stdout",
     "output_type": "stream",
     "text": [
      "[005|00/05] ---> 0.1270376829522451\n"
     ]
    },
    {
     "name": "stderr",
     "output_type": "stream",
     "text": [
      "Epoch 6: 100% 300/300 [01:37<00:00,  3.09it/s]\n"
     ]
    },
    {
     "name": "stdout",
     "output_type": "stream",
     "text": [
      "[006|00/05] ---> 0.1225257768077965\n"
     ]
    },
    {
     "name": "stderr",
     "output_type": "stream",
     "text": [
      "Epoch 7: 100% 300/300 [01:37<00:00,  3.08it/s]\n"
     ]
    },
    {
     "name": "stdout",
     "output_type": "stream",
     "text": [
      "[007|00/05] ---> 0.11865301318750955\n"
     ]
    },
    {
     "name": "stderr",
     "output_type": "stream",
     "text": [
      "Epoch 8: 100% 300/300 [01:37<00:00,  3.08it/s]\n"
     ]
    },
    {
     "name": "stdout",
     "output_type": "stream",
     "text": [
      "[008|00/05] ---> 0.11475470540900219\n"
     ]
    },
    {
     "name": "stderr",
     "output_type": "stream",
     "text": [
      "Epoch 9: 100% 300/300 [01:37<00:00,  3.08it/s]\n"
     ]
    },
    {
     "name": "stdout",
     "output_type": "stream",
     "text": [
      "[009|00/05] ---> 0.11380491018531094\n"
     ]
    },
    {
     "name": "stderr",
     "output_type": "stream",
     "text": [
      "Epoch 10: 100% 300/300 [01:37<00:00,  3.08it/s]\n"
     ]
    },
    {
     "name": "stdout",
     "output_type": "stream",
     "text": [
      "[010|00/05] ---> 0.1106423394804651\n"
     ]
    },
    {
     "name": "stderr",
     "output_type": "stream",
     "text": [
      "Epoch 11: 100% 300/300 [01:37<00:00,  3.08it/s]\n"
     ]
    },
    {
     "name": "stdout",
     "output_type": "stream",
     "text": [
      "[011|00/05] ---> 0.10888152724132516\n"
     ]
    },
    {
     "name": "stderr",
     "output_type": "stream",
     "text": [
      "Epoch 12: 100% 300/300 [01:37<00:00,  3.08it/s]\n"
     ]
    },
    {
     "name": "stdout",
     "output_type": "stream",
     "text": [
      "[012|00/05] ---> 0.1070377643011207\n"
     ]
    },
    {
     "name": "stderr",
     "output_type": "stream",
     "text": [
      "Epoch 13: 100% 300/300 [01:37<00:00,  3.09it/s]\n"
     ]
    },
    {
     "name": "stdout",
     "output_type": "stream",
     "text": [
      "[013|00/05] ---> 0.10588174022753889\n"
     ]
    },
    {
     "name": "stderr",
     "output_type": "stream",
     "text": [
      "Epoch 14: 100% 300/300 [01:37<00:00,  3.08it/s]\n"
     ]
    },
    {
     "name": "stdout",
     "output_type": "stream",
     "text": [
      "[014|00/05] ---> 0.10456081828875503\n"
     ]
    },
    {
     "name": "stderr",
     "output_type": "stream",
     "text": [
      "Epoch 15: 100% 300/300 [01:37<00:00,  3.08it/s]\n"
     ]
    },
    {
     "name": "stdout",
     "output_type": "stream",
     "text": [
      "[015|00/05] ---> 0.10312509123673301\n"
     ]
    },
    {
     "name": "stderr",
     "output_type": "stream",
     "text": [
      "Epoch 16: 100% 300/300 [01:37<00:00,  3.08it/s]\n"
     ]
    },
    {
     "name": "stdout",
     "output_type": "stream",
     "text": [
      "[016|00/05] ---> 0.10265392958167058\n"
     ]
    },
    {
     "name": "stderr",
     "output_type": "stream",
     "text": [
      "Epoch 17: 100% 300/300 [01:37<00:00,  3.08it/s]\n"
     ]
    },
    {
     "name": "stdout",
     "output_type": "stream",
     "text": [
      "[017|00/05] ---> 0.10213907326195636\n"
     ]
    },
    {
     "name": "stderr",
     "output_type": "stream",
     "text": [
      "Epoch 18: 100% 300/300 [01:37<00:00,  3.08it/s]\n"
     ]
    },
    {
     "name": "stdout",
     "output_type": "stream",
     "text": [
      "[018|00/05] ---> 0.10052064749291412\n"
     ]
    },
    {
     "name": "stderr",
     "output_type": "stream",
     "text": [
      "Epoch 19: 100% 300/300 [01:37<00:00,  3.08it/s]\n"
     ]
    },
    {
     "name": "stdout",
     "output_type": "stream",
     "text": [
      "[019|00/05] ---> 0.09997751582181999\n"
     ]
    },
    {
     "name": "stderr",
     "output_type": "stream",
     "text": [
      "Epoch 20: 100% 300/300 [01:37<00:00,  3.08it/s]\n"
     ]
    },
    {
     "name": "stdout",
     "output_type": "stream",
     "text": [
      "[020|00/05] ---> 0.09957427727562851\n"
     ]
    },
    {
     "name": "stderr",
     "output_type": "stream",
     "text": [
      "Epoch 21: 100% 300/300 [01:37<00:00,  3.08it/s]\n"
     ]
    },
    {
     "name": "stdout",
     "output_type": "stream",
     "text": [
      "[021|00/05] ---> 0.09895292816299465\n"
     ]
    },
    {
     "name": "stderr",
     "output_type": "stream",
     "text": [
      "Epoch 22: 100% 300/300 [01:37<00:00,  3.09it/s]\n"
     ]
    },
    {
     "name": "stdout",
     "output_type": "stream",
     "text": [
      "[022|00/05] ---> 0.09805623941069169\n"
     ]
    },
    {
     "name": "stderr",
     "output_type": "stream",
     "text": [
      "Epoch 23: 100% 300/300 [01:37<00:00,  3.08it/s]\n"
     ]
    },
    {
     "name": "stdout",
     "output_type": "stream",
     "text": [
      "[023|01/05] -/-> 0.0990566137018929\n"
     ]
    },
    {
     "name": "stderr",
     "output_type": "stream",
     "text": [
      "Epoch 24: 100% 300/300 [01:37<00:00,  3.09it/s]\n"
     ]
    },
    {
     "name": "stdout",
     "output_type": "stream",
     "text": [
      "[024|02/05] -/-> 0.09848887704387543\n"
     ]
    },
    {
     "name": "stderr",
     "output_type": "stream",
     "text": [
      "Epoch 25: 100% 300/300 [01:37<00:00,  3.08it/s]\n"
     ]
    },
    {
     "name": "stdout",
     "output_type": "stream",
     "text": [
      "[025|02/05] ---> 0.09790560024350362\n"
     ]
    },
    {
     "name": "stderr",
     "output_type": "stream",
     "text": [
      "Epoch 26: 100% 300/300 [01:37<00:00,  3.08it/s]\n"
     ]
    },
    {
     "name": "stdout",
     "output_type": "stream",
     "text": [
      "[026|00/05] ---> 0.09743442052785342\n"
     ]
    },
    {
     "name": "stderr",
     "output_type": "stream",
     "text": [
      "Epoch 27: 100% 300/300 [01:37<00:00,  3.09it/s]\n"
     ]
    },
    {
     "name": "stdout",
     "output_type": "stream",
     "text": [
      "[027|01/05] -/-> 0.09757083689675922\n"
     ]
    },
    {
     "name": "stderr",
     "output_type": "stream",
     "text": [
      "Epoch 28: 100% 300/300 [01:37<00:00,  3.08it/s]\n"
     ]
    },
    {
     "name": "stdout",
     "output_type": "stream",
     "text": [
      "[028|01/05] ---> 0.09576890741696521\n"
     ]
    },
    {
     "name": "stderr",
     "output_type": "stream",
     "text": [
      "Epoch 29: 100% 300/300 [01:37<00:00,  3.08it/s]\n"
     ]
    },
    {
     "name": "stdout",
     "output_type": "stream",
     "text": [
      "[029|01/05] -/-> 0.09679746595782449\n"
     ]
    },
    {
     "name": "stderr",
     "output_type": "stream",
     "text": [
      "Epoch 30: 100% 300/300 [01:37<00:00,  3.08it/s]\n"
     ]
    },
    {
     "name": "stdout",
     "output_type": "stream",
     "text": [
      "[030|01/05] ---> 0.09535426261342166\n"
     ]
    },
    {
     "name": "stderr",
     "output_type": "stream",
     "text": [
      "Epoch 31: 100% 300/300 [01:37<00:00,  3.09it/s]\n"
     ]
    },
    {
     "name": "stdout",
     "output_type": "stream",
     "text": [
      "[031|01/05] -/-> 0.09596268773775955\n"
     ]
    },
    {
     "name": "stderr",
     "output_type": "stream",
     "text": [
      "Epoch 32: 100% 300/300 [01:37<00:00,  3.08it/s]\n"
     ]
    },
    {
     "name": "stdout",
     "output_type": "stream",
     "text": [
      "[032|02/05] -/-> 0.09558140379209432\n"
     ]
    },
    {
     "name": "stderr",
     "output_type": "stream",
     "text": [
      "Epoch 33: 100% 300/300 [01:37<00:00,  3.08it/s]\n"
     ]
    },
    {
     "name": "stdout",
     "output_type": "stream",
     "text": [
      "[033|02/05] ---> 0.09484931146632902\n"
     ]
    },
    {
     "name": "stderr",
     "output_type": "stream",
     "text": [
      "Epoch 34: 100% 300/300 [01:37<00:00,  3.09it/s]\n"
     ]
    }
   ],
   "source": [
    "model_fn = \"nnvision.models.models.se_core_shared_multihead_attention\"\n",
    "model_config = {\n",
    "    \"pad_input\": False,\n",
    "    \"gamma_input\": 10,\n",
    "    \"layers\": 5,\n",
    "    \"depth_separable\": True,\n",
    "    \"n_se_blocks\": 0,\n",
    "    \"stack\": -1,\n",
    "    \"input_kern\": 9,\n",
    "    \"hidden_kern\": 5,\n",
    "    \"hidden_channels\": 96,\n",
    "    \"hidden_dilation\": 1,\n",
    "    \"linear\": False,\n",
    "    \"use_pos_enc\": True,\n",
    "    \"dropout_pos\": 0.1,\n",
    "    \"final_batch_norm\": True,\n",
    "    \"final_nonlinearity\": True,\n",
    "    \"key_embedding\": True,\n",
    "    \"value_embedding\": True,\n",
    "    \"layer_norm\": False,\n",
    "    \"scale\": True,\n",
    "    \"learned_pos\": False,\n",
    "    \"embed_out_dim\": 128,\n",
    "    \"gamma_embedding\": 0,\n",
    "    \"gamma_query\": 1,\n",
    "    \"gamma_features\": 1,\n",
    "    \"heads\": 1,\n",
    "    \"temperature\": [True, 1],\n",
    "}\n",
    "\n",
    "trainer = get_trainer(trainer_fn, trainer_config)\n",
    "\n",
    "model = get_model(model_fn, model_config, dataloaders=dataloaders, seed=0)\n",
    "model.cuda().train();\n",
    "\n",
    "test_correlation, output, state_dict = trainer(model, dataloaders, seed=42)\n",
    "\n",
    "test_correlation"
   ]
  },
  {
   "cell_type": "code",
   "execution_count": 12,
   "metadata": {},
   "outputs": [
    {
     "data": {
      "text/plain": [
       "0.2940322603343409"
      ]
     },
     "execution_count": 12,
     "metadata": {},
     "output_type": "execute_result"
    }
   ],
   "source": [
    "test_correlation"
   ]
  },
  {
   "cell_type": "markdown",
   "metadata": {},
   "source": [
    "## Data Driven | Gaussian"
   ]
  },
  {
   "cell_type": "code",
   "execution_count": 13,
   "metadata": {},
   "outputs": [
    {
     "name": "stderr",
     "output_type": "stream",
     "text": [
      "Epoch 1: 100% 300/300 [00:41<00:00,  7.27it/s]\n"
     ]
    },
    {
     "name": "stdout",
     "output_type": "stream",
     "text": [
      "[001|00/05] ---> 0.18448083141407706\n"
     ]
    },
    {
     "name": "stderr",
     "output_type": "stream",
     "text": [
      "Epoch 2: 100% 300/300 [00:41<00:00,  7.25it/s]\n"
     ]
    },
    {
     "name": "stdout",
     "output_type": "stream",
     "text": [
      "[002|00/05] ---> 0.18130555942247994\n"
     ]
    },
    {
     "name": "stderr",
     "output_type": "stream",
     "text": [
      "Epoch 3: 100% 300/300 [00:41<00:00,  7.26it/s]\n"
     ]
    },
    {
     "name": "stdout",
     "output_type": "stream",
     "text": [
      "[003|00/05] ---> 0.17719446904407854\n"
     ]
    },
    {
     "name": "stderr",
     "output_type": "stream",
     "text": [
      "Epoch 4: 100% 300/300 [00:41<00:00,  7.27it/s]\n"
     ]
    },
    {
     "name": "stdout",
     "output_type": "stream",
     "text": [
      "[004|00/05] ---> 0.17336985899771123\n"
     ]
    },
    {
     "name": "stderr",
     "output_type": "stream",
     "text": [
      "Epoch 5: 100% 300/300 [00:41<00:00,  7.25it/s]\n"
     ]
    },
    {
     "name": "stdout",
     "output_type": "stream",
     "text": [
      "[005|00/05] ---> 0.17108118259840227\n"
     ]
    },
    {
     "name": "stderr",
     "output_type": "stream",
     "text": [
      "Epoch 6: 100% 300/300 [00:41<00:00,  7.27it/s]\n"
     ]
    },
    {
     "name": "stdout",
     "output_type": "stream",
     "text": [
      "[006|00/05] ---> 0.16656470703530468\n"
     ]
    },
    {
     "name": "stderr",
     "output_type": "stream",
     "text": [
      "Epoch 7: 100% 300/300 [00:41<00:00,  7.25it/s]\n"
     ]
    },
    {
     "name": "stdout",
     "output_type": "stream",
     "text": [
      "[007|00/05] ---> 0.1636308560558594\n"
     ]
    },
    {
     "name": "stderr",
     "output_type": "stream",
     "text": [
      "Epoch 8: 100% 300/300 [00:41<00:00,  7.25it/s]\n"
     ]
    },
    {
     "name": "stdout",
     "output_type": "stream",
     "text": [
      "[008|00/05] ---> 0.16058686560413468\n"
     ]
    },
    {
     "name": "stderr",
     "output_type": "stream",
     "text": [
      "Epoch 9: 100% 300/300 [00:41<00:00,  7.25it/s]\n"
     ]
    },
    {
     "name": "stdout",
     "output_type": "stream",
     "text": [
      "[009|00/05] ---> 0.15831765015913268\n"
     ]
    },
    {
     "name": "stderr",
     "output_type": "stream",
     "text": [
      "Epoch 10: 100% 300/300 [00:41<00:00,  7.26it/s]\n"
     ]
    },
    {
     "name": "stdout",
     "output_type": "stream",
     "text": [
      "[010|00/05] ---> 0.1556694415343527\n"
     ]
    },
    {
     "name": "stderr",
     "output_type": "stream",
     "text": [
      "Epoch 11: 100% 300/300 [00:41<00:00,  7.26it/s]\n"
     ]
    },
    {
     "name": "stdout",
     "output_type": "stream",
     "text": [
      "[011|00/05] ---> 0.15322712746323766\n"
     ]
    },
    {
     "name": "stderr",
     "output_type": "stream",
     "text": [
      "Epoch 12: 100% 300/300 [00:41<00:00,  7.26it/s]\n"
     ]
    },
    {
     "name": "stdout",
     "output_type": "stream",
     "text": [
      "[012|00/05] ---> 0.15089042216506665\n"
     ]
    },
    {
     "name": "stderr",
     "output_type": "stream",
     "text": [
      "Epoch 13: 100% 300/300 [00:41<00:00,  7.25it/s]\n"
     ]
    },
    {
     "name": "stdout",
     "output_type": "stream",
     "text": [
      "[013|00/05] ---> 0.14951187589202042\n"
     ]
    },
    {
     "name": "stderr",
     "output_type": "stream",
     "text": [
      "Epoch 14: 100% 300/300 [00:41<00:00,  7.27it/s]\n"
     ]
    },
    {
     "name": "stdout",
     "output_type": "stream",
     "text": [
      "[014|00/05] ---> 0.14730022282810276\n"
     ]
    },
    {
     "name": "stderr",
     "output_type": "stream",
     "text": [
      "Epoch 15: 100% 300/300 [00:41<00:00,  7.27it/s]\n"
     ]
    },
    {
     "name": "stdout",
     "output_type": "stream",
     "text": [
      "[015|00/05] ---> 0.14519367212154036\n"
     ]
    },
    {
     "name": "stderr",
     "output_type": "stream",
     "text": [
      "Epoch 16: 100% 300/300 [00:41<00:00,  7.26it/s]\n"
     ]
    },
    {
     "name": "stdout",
     "output_type": "stream",
     "text": [
      "[016|00/05] ---> 0.14263849452051555\n"
     ]
    },
    {
     "name": "stderr",
     "output_type": "stream",
     "text": [
      "Epoch 17: 100% 300/300 [00:41<00:00,  7.26it/s]\n"
     ]
    },
    {
     "name": "stdout",
     "output_type": "stream",
     "text": [
      "[017|00/05] ---> 0.14118011697956642\n"
     ]
    },
    {
     "name": "stderr",
     "output_type": "stream",
     "text": [
      "Epoch 18: 100% 300/300 [00:41<00:00,  7.27it/s]\n"
     ]
    },
    {
     "name": "stdout",
     "output_type": "stream",
     "text": [
      "[018|00/05] ---> 0.13922263058276563\n"
     ]
    },
    {
     "name": "stderr",
     "output_type": "stream",
     "text": [
      "Epoch 19: 100% 300/300 [00:41<00:00,  7.26it/s]\n"
     ]
    },
    {
     "name": "stdout",
     "output_type": "stream",
     "text": [
      "[019|00/05] ---> 0.13838763102696572\n"
     ]
    },
    {
     "name": "stderr",
     "output_type": "stream",
     "text": [
      "Epoch 20: 100% 300/300 [00:41<00:00,  7.29it/s]\n"
     ]
    },
    {
     "name": "stdout",
     "output_type": "stream",
     "text": [
      "[020|00/05] ---> 0.13672316362655026\n"
     ]
    },
    {
     "name": "stderr",
     "output_type": "stream",
     "text": [
      "Epoch 21: 100% 300/300 [00:41<00:00,  7.27it/s]\n"
     ]
    },
    {
     "name": "stdout",
     "output_type": "stream",
     "text": [
      "[021|00/05] ---> 0.1353474686831128\n"
     ]
    },
    {
     "name": "stderr",
     "output_type": "stream",
     "text": [
      "Epoch 22: 100% 300/300 [00:41<00:00,  7.26it/s]\n"
     ]
    },
    {
     "name": "stdout",
     "output_type": "stream",
     "text": [
      "[022|00/05] ---> 0.13531886307498814\n"
     ]
    },
    {
     "name": "stderr",
     "output_type": "stream",
     "text": [
      "Epoch 23: 100% 300/300 [00:41<00:00,  7.28it/s]\n"
     ]
    },
    {
     "name": "stdout",
     "output_type": "stream",
     "text": [
      "[023|00/05] ---> 0.13420831935834027\n"
     ]
    },
    {
     "name": "stderr",
     "output_type": "stream",
     "text": [
      "Epoch 24: 100% 300/300 [00:41<00:00,  7.28it/s]\n"
     ]
    },
    {
     "name": "stdout",
     "output_type": "stream",
     "text": [
      "[024|00/05] ---> 0.13254516483923307\n"
     ]
    },
    {
     "name": "stderr",
     "output_type": "stream",
     "text": [
      "Epoch 25: 100% 300/300 [00:41<00:00,  7.27it/s]\n"
     ]
    },
    {
     "name": "stdout",
     "output_type": "stream",
     "text": [
      "[025|00/05] ---> 0.132298327974213\n"
     ]
    },
    {
     "name": "stderr",
     "output_type": "stream",
     "text": [
      "Epoch 26: 100% 300/300 [00:41<00:00,  7.27it/s]\n"
     ]
    },
    {
     "name": "stdout",
     "output_type": "stream",
     "text": [
      "[026|00/05] ---> 0.13092976268478476\n"
     ]
    },
    {
     "name": "stderr",
     "output_type": "stream",
     "text": [
      "Epoch 27: 100% 300/300 [00:41<00:00,  7.29it/s]\n"
     ]
    },
    {
     "name": "stdout",
     "output_type": "stream",
     "text": [
      "[027|00/05] ---> 0.13046849177275963\n"
     ]
    },
    {
     "name": "stderr",
     "output_type": "stream",
     "text": [
      "Epoch 28: 100% 300/300 [00:41<00:00,  7.29it/s]\n"
     ]
    },
    {
     "name": "stdout",
     "output_type": "stream",
     "text": [
      "[028|00/05] ---> 0.129844670142862\n"
     ]
    },
    {
     "name": "stderr",
     "output_type": "stream",
     "text": [
      "Epoch 29: 100% 300/300 [00:41<00:00,  7.30it/s]\n"
     ]
    },
    {
     "name": "stdout",
     "output_type": "stream",
     "text": [
      "[029|01/05] -/-> 0.1302583616732874\n"
     ]
    },
    {
     "name": "stderr",
     "output_type": "stream",
     "text": [
      "Epoch 30: 100% 300/300 [00:41<00:00,  7.31it/s]\n"
     ]
    },
    {
     "name": "stdout",
     "output_type": "stream",
     "text": [
      "[030|01/05] ---> 0.12910237194446333\n"
     ]
    },
    {
     "name": "stderr",
     "output_type": "stream",
     "text": [
      "Epoch 31: 100% 300/300 [00:41<00:00,  7.30it/s]\n"
     ]
    },
    {
     "name": "stdout",
     "output_type": "stream",
     "text": [
      "[031|00/05] ---> 0.12822889886195316\n"
     ]
    },
    {
     "name": "stderr",
     "output_type": "stream",
     "text": [
      "Epoch 32: 100% 300/300 [00:41<00:00,  7.31it/s]\n"
     ]
    },
    {
     "name": "stdout",
     "output_type": "stream",
     "text": [
      "[032|00/05] ---> 0.12812787877700516\n"
     ]
    },
    {
     "name": "stderr",
     "output_type": "stream",
     "text": [
      "Epoch 33: 100% 300/300 [00:40<00:00,  7.33it/s]\n"
     ]
    },
    {
     "name": "stdout",
     "output_type": "stream",
     "text": [
      "[033|00/05] ---> 0.12786345059424825\n"
     ]
    },
    {
     "name": "stderr",
     "output_type": "stream",
     "text": [
      "Epoch 34: 100% 300/300 [00:40<00:00,  7.32it/s]\n"
     ]
    },
    {
     "name": "stdout",
     "output_type": "stream",
     "text": [
      "[034|00/05] ---> 0.12680416545876727\n"
     ]
    },
    {
     "name": "stderr",
     "output_type": "stream",
     "text": [
      "Epoch 35: 100% 300/300 [00:41<00:00,  7.30it/s]\n"
     ]
    },
    {
     "name": "stdout",
     "output_type": "stream",
     "text": [
      "[035|01/05] -/-> 0.12684519466056704\n"
     ]
    },
    {
     "name": "stderr",
     "output_type": "stream",
     "text": [
      "Epoch 36: 100% 300/300 [00:41<00:00,  7.30it/s]\n"
     ]
    },
    {
     "name": "stdout",
     "output_type": "stream",
     "text": [
      "[036|01/05] ---> 0.12634270377403964\n"
     ]
    },
    {
     "name": "stderr",
     "output_type": "stream",
     "text": [
      "Epoch 37: 100% 300/300 [00:40<00:00,  7.33it/s]\n"
     ]
    },
    {
     "name": "stdout",
     "output_type": "stream",
     "text": [
      "[037|00/05] ---> 0.12576162866865442\n"
     ]
    },
    {
     "name": "stderr",
     "output_type": "stream",
     "text": [
      "Epoch 38: 100% 300/300 [00:40<00:00,  7.32it/s]\n"
     ]
    },
    {
     "name": "stdout",
     "output_type": "stream",
     "text": [
      "[038|01/05] -/-> 0.12638827032813194\n"
     ]
    },
    {
     "name": "stderr",
     "output_type": "stream",
     "text": [
      "Epoch 39: 100% 300/300 [00:41<00:00,  7.29it/s]\n"
     ]
    },
    {
     "name": "stdout",
     "output_type": "stream",
     "text": [
      "[039|01/05] ---> 0.12549466445332103\n"
     ]
    },
    {
     "name": "stderr",
     "output_type": "stream",
     "text": [
      "Epoch 40: 100% 300/300 [00:40<00:00,  7.33it/s]\n"
     ]
    },
    {
     "name": "stdout",
     "output_type": "stream",
     "text": [
      "[040|00/05] ---> 0.12522088480755297\n"
     ]
    },
    {
     "name": "stderr",
     "output_type": "stream",
     "text": [
      "Epoch 41: 100% 300/300 [00:40<00:00,  7.32it/s]\n"
     ]
    },
    {
     "name": "stdout",
     "output_type": "stream",
     "text": [
      "[041|00/05] ---> 0.12506915731853588\n"
     ]
    },
    {
     "name": "stderr",
     "output_type": "stream",
     "text": [
      "Epoch 42: 100% 300/300 [00:40<00:00,  7.33it/s]\n"
     ]
    },
    {
     "name": "stdout",
     "output_type": "stream",
     "text": [
      "[042|01/05] -/-> 0.12515613043821386\n"
     ]
    },
    {
     "name": "stderr",
     "output_type": "stream",
     "text": [
      "Epoch 43: 100% 300/300 [00:40<00:00,  7.33it/s]\n"
     ]
    },
    {
     "name": "stdout",
     "output_type": "stream",
     "text": [
      "[043|01/05] ---> 0.12400593355234055\n"
     ]
    },
    {
     "name": "stderr",
     "output_type": "stream",
     "text": [
      "Epoch 44: 100% 300/300 [00:41<00:00,  7.30it/s]\n"
     ]
    },
    {
     "name": "stdout",
     "output_type": "stream",
     "text": [
      "[044|01/05] -/-> 0.12483313818202006\n"
     ]
    },
    {
     "name": "stderr",
     "output_type": "stream",
     "text": [
      "Epoch 45: 100% 300/300 [00:40<00:00,  7.32it/s]\n"
     ]
    },
    {
     "name": "stdout",
     "output_type": "stream",
     "text": [
      "[045|01/05] ---> 0.12396311359065529\n"
     ]
    },
    {
     "name": "stderr",
     "output_type": "stream",
     "text": [
      "Epoch 46: 100% 300/300 [00:41<00:00,  7.31it/s]\n"
     ]
    },
    {
     "name": "stdout",
     "output_type": "stream",
     "text": [
      "[046|00/05] ---> 0.12394685568608078\n"
     ]
    },
    {
     "name": "stderr",
     "output_type": "stream",
     "text": [
      "Epoch 47: 100% 300/300 [00:40<00:00,  7.34it/s]\n"
     ]
    },
    {
     "name": "stdout",
     "output_type": "stream",
     "text": [
      "[047|00/05] ---> 0.12366979082232687\n"
     ]
    },
    {
     "name": "stderr",
     "output_type": "stream",
     "text": [
      "Epoch 48: 100% 300/300 [00:41<00:00,  7.31it/s]\n"
     ]
    },
    {
     "name": "stdout",
     "output_type": "stream",
     "text": [
      "[048|00/05] ---> 0.12318383539530196\n"
     ]
    },
    {
     "name": "stderr",
     "output_type": "stream",
     "text": [
      "Epoch 49: 100% 300/300 [00:40<00:00,  7.34it/s]\n"
     ]
    },
    {
     "name": "stdout",
     "output_type": "stream",
     "text": [
      "[049|00/05] ---> 0.12316266479292348\n"
     ]
    },
    {
     "name": "stderr",
     "output_type": "stream",
     "text": [
      "Epoch 50: 100% 300/300 [00:40<00:00,  7.32it/s]\n"
     ]
    },
    {
     "name": "stdout",
     "output_type": "stream",
     "text": [
      "[050|00/05] ---> 0.12274245336199714\n"
     ]
    },
    {
     "name": "stderr",
     "output_type": "stream",
     "text": [
      "Epoch 51: 100% 300/300 [00:40<00:00,  7.32it/s]\n"
     ]
    },
    {
     "name": "stdout",
     "output_type": "stream",
     "text": [
      "[051|00/05] ---> 0.12273710620235143\n"
     ]
    },
    {
     "name": "stderr",
     "output_type": "stream",
     "text": [
      "Epoch 52: 100% 300/300 [00:40<00:00,  7.35it/s]\n"
     ]
    },
    {
     "name": "stdout",
     "output_type": "stream",
     "text": [
      "[052|00/05] ---> 0.12227731904397306\n"
     ]
    },
    {
     "name": "stderr",
     "output_type": "stream",
     "text": [
      "Epoch 53: 100% 300/300 [00:40<00:00,  7.35it/s]\n"
     ]
    },
    {
     "name": "stdout",
     "output_type": "stream",
     "text": [
      "[053|00/05] ---> 0.12199663830866339\n"
     ]
    },
    {
     "name": "stderr",
     "output_type": "stream",
     "text": [
      "Epoch 54: 100% 300/300 [00:40<00:00,  7.35it/s]\n"
     ]
    },
    {
     "name": "stdout",
     "output_type": "stream",
     "text": [
      "[054|00/05] ---> 0.12196056876375377\n"
     ]
    },
    {
     "name": "stderr",
     "output_type": "stream",
     "text": [
      "Epoch 55: 100% 300/300 [00:41<00:00,  7.32it/s]\n"
     ]
    },
    {
     "name": "stdout",
     "output_type": "stream",
     "text": [
      "[055|00/05] ---> 0.12183429091254715\n"
     ]
    },
    {
     "name": "stderr",
     "output_type": "stream",
     "text": [
      "Epoch 56: 100% 300/300 [00:40<00:00,  7.32it/s]\n"
     ]
    },
    {
     "name": "stdout",
     "output_type": "stream",
     "text": [
      "[056|01/05] -/-> 0.12208594898433302\n"
     ]
    },
    {
     "name": "stderr",
     "output_type": "stream",
     "text": [
      "Epoch 57: 100% 300/300 [00:41<00:00,  7.31it/s]\n"
     ]
    },
    {
     "name": "stdout",
     "output_type": "stream",
     "text": [
      "[057|01/05] ---> 0.12163404162489898\n"
     ]
    },
    {
     "name": "stderr",
     "output_type": "stream",
     "text": [
      "Epoch 58: 100% 300/300 [00:40<00:00,  7.33it/s]\n"
     ]
    },
    {
     "name": "stdout",
     "output_type": "stream",
     "text": [
      "[058|01/05] -/-> 0.12186305558060231\n"
     ]
    },
    {
     "name": "stderr",
     "output_type": "stream",
     "text": [
      "Epoch 59: 100% 300/300 [00:40<00:00,  7.33it/s]\n"
     ]
    },
    {
     "name": "stdout",
     "output_type": "stream",
     "text": [
      "[059|01/05] ---> 0.12113617135489836\n"
     ]
    },
    {
     "name": "stderr",
     "output_type": "stream",
     "text": [
      "Epoch 60: 100% 300/300 [00:40<00:00,  7.32it/s]\n"
     ]
    },
    {
     "name": "stdout",
     "output_type": "stream",
     "text": [
      "[060|01/05] -/-> 0.12143698623881795\n"
     ]
    },
    {
     "name": "stderr",
     "output_type": "stream",
     "text": [
      "Epoch 61: 100% 300/300 [00:40<00:00,  7.33it/s]\n"
     ]
    },
    {
     "name": "stdout",
     "output_type": "stream",
     "text": [
      "[061|01/05] ---> 0.12099760249228586\n"
     ]
    },
    {
     "name": "stderr",
     "output_type": "stream",
     "text": [
      "Epoch 62: 100% 300/300 [00:40<00:00,  7.35it/s]\n"
     ]
    },
    {
     "name": "stdout",
     "output_type": "stream",
     "text": [
      "[062|01/05] -/-> 0.12108787241055703\n"
     ]
    },
    {
     "name": "stderr",
     "output_type": "stream",
     "text": [
      "Epoch 63: 100% 300/300 [00:40<00:00,  7.35it/s]\n"
     ]
    },
    {
     "name": "stdout",
     "output_type": "stream",
     "text": [
      "[063|02/05] -/-> 0.12102968506483174\n"
     ]
    },
    {
     "name": "stderr",
     "output_type": "stream",
     "text": [
      "Epoch 64: 100% 300/300 [00:40<00:00,  7.36it/s]\n"
     ]
    },
    {
     "name": "stdout",
     "output_type": "stream",
     "text": [
      "[064|02/05] ---> 0.12093708665093611\n"
     ]
    },
    {
     "name": "stderr",
     "output_type": "stream",
     "text": [
      "Epoch 65: 100% 300/300 [00:40<00:00,  7.36it/s]\n"
     ]
    },
    {
     "name": "stdout",
     "output_type": "stream",
     "text": [
      "[065|00/05] ---> 0.12058441122962799\n"
     ]
    },
    {
     "name": "stderr",
     "output_type": "stream",
     "text": [
      "Epoch 66: 100% 300/300 [00:40<00:00,  7.36it/s]\n"
     ]
    },
    {
     "name": "stdout",
     "output_type": "stream",
     "text": [
      "[066|01/05] -/-> 0.1206971228905985\n"
     ]
    },
    {
     "name": "stderr",
     "output_type": "stream",
     "text": [
      "Epoch 67: 100% 300/300 [00:40<00:00,  7.34it/s]\n"
     ]
    },
    {
     "name": "stdout",
     "output_type": "stream",
     "text": [
      "[067|02/05] -/-> 0.12115186417733129\n"
     ]
    },
    {
     "name": "stderr",
     "output_type": "stream",
     "text": [
      "Epoch 68: 100% 300/300 [00:40<00:00,  7.32it/s]\n"
     ]
    },
    {
     "name": "stdout",
     "output_type": "stream",
     "text": [
      "[068|02/05] ---> 0.12040535241406786\n"
     ]
    },
    {
     "name": "stderr",
     "output_type": "stream",
     "text": [
      "Epoch 69: 100% 300/300 [00:40<00:00,  7.35it/s]\n"
     ]
    },
    {
     "name": "stdout",
     "output_type": "stream",
     "text": [
      "[069|00/05] ---> 0.12030336064229767\n"
     ]
    },
    {
     "name": "stderr",
     "output_type": "stream",
     "text": [
      "Epoch 70: 100% 300/300 [00:40<00:00,  7.36it/s]\n"
     ]
    },
    {
     "name": "stdout",
     "output_type": "stream",
     "text": [
      "[070|01/05] -/-> 0.12043425139914377\n"
     ]
    },
    {
     "name": "stderr",
     "output_type": "stream",
     "text": [
      "Epoch 71: 100% 300/300 [00:40<00:00,  7.35it/s]\n"
     ]
    },
    {
     "name": "stdout",
     "output_type": "stream",
     "text": [
      "[071|02/05] -/-> 0.12056460150373868\n"
     ]
    },
    {
     "name": "stderr",
     "output_type": "stream",
     "text": [
      "Epoch 72: 100% 300/300 [00:40<00:00,  7.33it/s]\n"
     ]
    },
    {
     "name": "stdout",
     "output_type": "stream",
     "text": [
      "[072|02/05] ---> 0.11985974404175345\n"
     ]
    },
    {
     "name": "stderr",
     "output_type": "stream",
     "text": [
      "Epoch 73: 100% 300/300 [00:40<00:00,  7.37it/s]\n"
     ]
    },
    {
     "name": "stdout",
     "output_type": "stream",
     "text": [
      "[073|01/05] -/-> 0.11987100872472008\n"
     ]
    },
    {
     "name": "stderr",
     "output_type": "stream",
     "text": [
      "Epoch 74: 100% 300/300 [00:40<00:00,  7.34it/s]\n"
     ]
    },
    {
     "name": "stdout",
     "output_type": "stream",
     "text": [
      "[074|01/05] ---> 0.11968216419335155\n"
     ]
    },
    {
     "name": "stderr",
     "output_type": "stream",
     "text": [
      "Epoch 75: 100% 300/300 [00:40<00:00,  7.35it/s]\n"
     ]
    },
    {
     "name": "stdout",
     "output_type": "stream",
     "text": [
      "[075|01/05] -/-> 0.1200314106704495\n"
     ]
    },
    {
     "name": "stderr",
     "output_type": "stream",
     "text": [
      "Epoch 76: 100% 300/300 [00:40<00:00,  7.36it/s]\n"
     ]
    },
    {
     "name": "stdout",
     "output_type": "stream",
     "text": [
      "[076|02/05] -/-> 0.12080968453657381\n"
     ]
    },
    {
     "name": "stderr",
     "output_type": "stream",
     "text": [
      "Epoch 77: 100% 300/300 [00:40<00:00,  7.34it/s]\n"
     ]
    },
    {
     "name": "stdout",
     "output_type": "stream",
     "text": [
      "[077|03/05] -/-> 0.12021978536750066\n"
     ]
    },
    {
     "name": "stderr",
     "output_type": "stream",
     "text": [
      "Epoch 78: 100% 300/300 [00:40<00:00,  7.35it/s]\n"
     ]
    },
    {
     "name": "stdout",
     "output_type": "stream",
     "text": [
      "[078|04/05] -/-> 0.12023685489877846\n"
     ]
    },
    {
     "name": "stderr",
     "output_type": "stream",
     "text": [
      "Epoch 79: 100% 300/300 [00:40<00:00,  7.35it/s]\n"
     ]
    },
    {
     "name": "stdout",
     "output_type": "stream",
     "text": [
      "[079|05/05] -/-> 0.12090825299514467\n",
      "Restoring best model after lr decay! 0.120908 ---> 0.119682\n"
     ]
    },
    {
     "name": "stderr",
     "output_type": "stream",
     "text": [
      "Epoch 80: 100% 300/300 [00:40<00:00,  7.36it/s]\n"
     ]
    },
    {
     "name": "stdout",
     "output_type": "stream",
     "text": [
      "Epoch    80: reducing learning rate of group 0 to 9.0000e-04.\n",
      "[080|01/05] -/-> 0.11990063364515954\n"
     ]
    },
    {
     "name": "stderr",
     "output_type": "stream",
     "text": [
      "Epoch 81: 100% 300/300 [00:40<00:00,  7.35it/s]\n"
     ]
    },
    {
     "name": "stdout",
     "output_type": "stream",
     "text": [
      "[081|01/05] ---> 0.11657006323333119\n"
     ]
    },
    {
     "name": "stderr",
     "output_type": "stream",
     "text": [
      "Epoch 82: 100% 300/300 [00:40<00:00,  7.38it/s]\n"
     ]
    },
    {
     "name": "stdout",
     "output_type": "stream",
     "text": [
      "[082|00/05] ---> 0.11597441371066804\n"
     ]
    },
    {
     "name": "stderr",
     "output_type": "stream",
     "text": [
      "Epoch 83: 100% 300/300 [00:40<00:00,  7.37it/s]\n"
     ]
    },
    {
     "name": "stdout",
     "output_type": "stream",
     "text": [
      "[083|01/05] -/-> 0.11713491661373787\n"
     ]
    },
    {
     "name": "stderr",
     "output_type": "stream",
     "text": [
      "Epoch 84: 100% 300/300 [00:40<00:00,  7.35it/s]\n"
     ]
    },
    {
     "name": "stdout",
     "output_type": "stream",
     "text": [
      "[084|02/05] -/-> 0.11654528814726793\n"
     ]
    },
    {
     "name": "stderr",
     "output_type": "stream",
     "text": [
      "Epoch 85: 100% 300/300 [00:40<00:00,  7.37it/s]\n"
     ]
    },
    {
     "name": "stdout",
     "output_type": "stream",
     "text": [
      "[085|03/05] -/-> 0.1165153940119678\n"
     ]
    },
    {
     "name": "stderr",
     "output_type": "stream",
     "text": [
      "Epoch 86: 100% 300/300 [00:40<00:00,  7.36it/s]\n"
     ]
    },
    {
     "name": "stdout",
     "output_type": "stream",
     "text": [
      "[086|04/05] -/-> 0.11765240672970396\n"
     ]
    },
    {
     "name": "stderr",
     "output_type": "stream",
     "text": [
      "Epoch 87: 100% 300/300 [00:40<00:00,  7.38it/s]\n"
     ]
    },
    {
     "name": "stdout",
     "output_type": "stream",
     "text": [
      "[087|05/05] -/-> 0.11721382032125273\n",
      "Restoring best model after lr decay! 0.117214 ---> 0.115974\n"
     ]
    },
    {
     "name": "stderr",
     "output_type": "stream",
     "text": [
      "Epoch 88: 100% 300/300 [00:40<00:00,  7.34it/s]\n"
     ]
    },
    {
     "name": "stdout",
     "output_type": "stream",
     "text": [
      "Epoch    88: reducing learning rate of group 0 to 2.7000e-04.\n",
      "[088|01/05] -/-> 0.11682273251135881\n"
     ]
    },
    {
     "name": "stderr",
     "output_type": "stream",
     "text": [
      "Epoch 89: 100% 300/300 [00:40<00:00,  7.37it/s]\n"
     ]
    },
    {
     "name": "stdout",
     "output_type": "stream",
     "text": [
      "[089|01/05] ---> 0.1154160848709399\n"
     ]
    },
    {
     "name": "stderr",
     "output_type": "stream",
     "text": [
      "Epoch 90: 100% 300/300 [00:40<00:00,  7.34it/s]\n"
     ]
    },
    {
     "name": "stdout",
     "output_type": "stream",
     "text": [
      "[090|01/05] -/-> 0.11578480767177665\n"
     ]
    },
    {
     "name": "stderr",
     "output_type": "stream",
     "text": [
      "Epoch 91: 100% 300/300 [00:40<00:00,  7.35it/s]\n"
     ]
    },
    {
     "name": "stdout",
     "output_type": "stream",
     "text": [
      "[091|02/05] -/-> 0.11577077903676036\n"
     ]
    },
    {
     "name": "stderr",
     "output_type": "stream",
     "text": [
      "Epoch 92: 100% 300/300 [00:40<00:00,  7.35it/s]\n"
     ]
    },
    {
     "name": "stdout",
     "output_type": "stream",
     "text": [
      "[092|03/05] -/-> 0.11655223495825287\n"
     ]
    },
    {
     "name": "stderr",
     "output_type": "stream",
     "text": [
      "Epoch 93: 100% 300/300 [00:40<00:00,  7.34it/s]\n"
     ]
    },
    {
     "name": "stdout",
     "output_type": "stream",
     "text": [
      "[093|04/05] -/-> 0.1158498065768664\n"
     ]
    },
    {
     "name": "stderr",
     "output_type": "stream",
     "text": [
      "Epoch 94: 100% 300/300 [00:40<00:00,  7.38it/s]\n"
     ]
    },
    {
     "name": "stdout",
     "output_type": "stream",
     "text": [
      "[094|05/05] -/-> 0.11600922071768226\n",
      "Restoring best model after lr decay! 0.116009 ---> 0.115416\n"
     ]
    },
    {
     "name": "stderr",
     "output_type": "stream",
     "text": [
      "Epoch 95: 100% 300/300 [00:40<00:00,  7.36it/s]\n"
     ]
    },
    {
     "name": "stdout",
     "output_type": "stream",
     "text": [
      "Epoch    95: reducing learning rate of group 0 to 1.0000e-04.\n",
      "[095|01/05] -/-> 0.1156907449073179\n"
     ]
    },
    {
     "name": "stderr",
     "output_type": "stream",
     "text": [
      "Epoch 96: 100% 300/300 [00:40<00:00,  7.36it/s]\n"
     ]
    },
    {
     "name": "stdout",
     "output_type": "stream",
     "text": [
      "[096|02/05] -/-> 0.11565999245833865\n"
     ]
    },
    {
     "name": "stderr",
     "output_type": "stream",
     "text": [
      "Epoch 97: 100% 300/300 [00:40<00:00,  7.34it/s]\n"
     ]
    },
    {
     "name": "stdout",
     "output_type": "stream",
     "text": [
      "[097|03/05] -/-> 0.11646829966000494\n"
     ]
    },
    {
     "name": "stderr",
     "output_type": "stream",
     "text": [
      "Epoch 98: 100% 300/300 [00:40<00:00,  7.37it/s]\n"
     ]
    },
    {
     "name": "stdout",
     "output_type": "stream",
     "text": [
      "[098|04/05] -/-> 0.1156986719494093\n"
     ]
    },
    {
     "name": "stderr",
     "output_type": "stream",
     "text": [
      "Epoch 99: 100% 300/300 [00:40<00:00,  7.34it/s]\n"
     ]
    },
    {
     "name": "stdout",
     "output_type": "stream",
     "text": [
      "[099|05/05] -/-> 0.11584583113345888\n",
      "Restoring best model after lr decay! 0.115846 ---> 0.115416\n"
     ]
    },
    {
     "name": "stderr",
     "output_type": "stream",
     "text": [
      "Epoch 100: 100% 300/300 [00:40<00:00,  7.37it/s]\n"
     ]
    },
    {
     "name": "stdout",
     "output_type": "stream",
     "text": [
      "[100|00/05] ---> 0.11534084233770661\n"
     ]
    },
    {
     "name": "stderr",
     "output_type": "stream",
     "text": [
      "Epoch 101: 100% 300/300 [00:40<00:00,  7.36it/s]\n"
     ]
    },
    {
     "name": "stdout",
     "output_type": "stream",
     "text": [
      "[101|01/05] -/-> 0.11570259367657046\n"
     ]
    },
    {
     "name": "stderr",
     "output_type": "stream",
     "text": [
      "Epoch 102: 100% 300/300 [00:40<00:00,  7.35it/s]\n"
     ]
    },
    {
     "name": "stdout",
     "output_type": "stream",
     "text": [
      "[102|02/05] -/-> 0.1162722238035126\n"
     ]
    },
    {
     "name": "stderr",
     "output_type": "stream",
     "text": [
      "Epoch 103: 100% 300/300 [00:40<00:00,  7.36it/s]\n"
     ]
    },
    {
     "name": "stdout",
     "output_type": "stream",
     "text": [
      "[103|03/05] -/-> 0.11722055007840482\n"
     ]
    },
    {
     "name": "stderr",
     "output_type": "stream",
     "text": [
      "Epoch 104: 100% 300/300 [00:40<00:00,  7.36it/s]\n"
     ]
    },
    {
     "name": "stdout",
     "output_type": "stream",
     "text": [
      "[104|04/05] -/-> 0.11639008056812962\n"
     ]
    },
    {
     "name": "stderr",
     "output_type": "stream",
     "text": [
      "Epoch 105: 100% 300/300 [00:40<00:00,  7.37it/s]\n"
     ]
    },
    {
     "name": "stdout",
     "output_type": "stream",
     "text": [
      "[105|05/05] -/-> 0.1166662225083964\n",
      "Restoring best model after lr decay! 0.116666 ---> 0.115341\n",
      "Restoring best model! 0.115341 ---> 0.115341\n"
     ]
    },
    {
     "data": {
      "text/plain": [
       "0.22937989865916697"
      ]
     },
     "execution_count": 13,
     "metadata": {},
     "output_type": "execute_result"
    }
   ],
   "source": [
    "model_fn = \"nnvision.models.models.se_core_full_gauss_readout\"\n",
    "model_config = {\n",
    "    \"pad_input\": False,\n",
    "    \"gamma_input\": 10,\n",
    "    \"layers\": 5,\n",
    "    \"depth_separable\": True,\n",
    "    \"n_se_blocks\": 0,\n",
    "    \"stack\": -1,\n",
    "    \"input_kern\": 9,\n",
    "    \"hidden_kern\": 5,\n",
    "    \"hidden_channels\": 96,\n",
    "    \"hidden_dilation\": 1,\n",
    "    \"linear\": False,\n",
    "    'init_mu_range': 0.4,\n",
    "    'init_sigma_range': 0.6,\n",
    "    'readout_bias': True,\n",
    "    'gamma_readout': 3.0,\n",
    "    'elu_offset': -1,\n",
    "}\n",
    "\n",
    "trainer = get_trainer(trainer_fn, trainer_config)\n",
    "\n",
    "model = get_model(model_fn, model_config, dataloaders=dataloaders, seed=0)\n",
    "model.cuda().train();\n",
    "\n",
    "test_correlation, output, state_dict = trainer(model, dataloaders, seed=42)\n",
    "\n",
    "test_correlation"
   ]
  },
  {
   "cell_type": "code",
   "execution_count": null,
   "metadata": {},
   "outputs": [],
   "source": [
    "test_correlation"
   ]
  },
  {
   "cell_type": "code",
   "execution_count": 14,
   "metadata": {},
   "outputs": [],
   "source": [
    "results = {\n",
    "    'ResNet': {\n",
    "        'Gaussian': 0.2619708596289779,\n",
    "        'Attention': 0.2759113943899222,\n",
    "    },\n",
    "    'CNN': {\n",
    "        'Gaussian': 0.22937989865916697,\n",
    "        'Attention': 0.2940322603343409\n",
    "    }\n",
    "}\n",
    "\n",
    "import pandas as pd\n",
    "\n",
    "df = pd.DataFrame(results)"
   ]
  },
  {
   "cell_type": "code",
   "execution_count": 15,
   "metadata": {},
   "outputs": [
    {
     "data": {
      "image/png": "[encoded data removed]",
      "text/plain": [
       "<Figure size 750x750 with 1 Axes>"
      ]
     },
     "metadata": {},
     "output_type": "display_data"
    }
   ],
   "source": [
    "import seaborn as sns\n",
    "\n",
    "plt.figure(figsize=(5, 5), dpi=150, facecolor='w')\n",
    "sns.set_context('talk')\n",
    "sns.heatmap(df.T, annot=True, cbar=False, cmap='Blues')\n",
    "\n",
    "plt.ylabel('Core')\n",
    "plt.xlabel('Readout')\n",
    "plt.title('Test Correlation')\n",
    "\n",
    "plt.tight_layout()\n",
    "\n",
    "plt.savefig('ablation.png', dpi=150)"
   ]
  },
  {
   "cell_type": "code",
   "execution_count": null,
   "metadata": {},
   "outputs": [],
   "source": []
  },
  {
   "cell_type": "code",
   "execution_count": null,
   "metadata": {},
   "outputs": [],
   "source": []
  }
 ],
 "metadata": {
  "kernelspec": {
   "display_name": "Python 3 (ipykernel)",
   "language": "python",
   "name": "python3"
  },
  "language_info": {
   "codemirror_mode": {
    "name": "ipython",
    "version": 3
   },
   "file_extension": ".py",
   "mimetype": "text/x-python",
   "name": "python",
   "nbconvert_exporter": "python",
   "pygments_lexer": "ipython3",
   "version": "3.9.6"
  }
 },
 "nbformat": 4,
 "nbformat_minor": 4
}